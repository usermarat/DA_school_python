{
 "cells": [
  {
   "cell_type": "markdown",
   "metadata": {},
   "source": [
    "В первой части будет построена модель логистической регрессии двумя способами - как нейросеть без скрытых слоев и \"коробочное решение\" библиотеки sklearn путем подбора оптимальных параметров через GridSearchCV"
   ]
  },
  {
   "cell_type": "code",
   "execution_count": 1,
   "metadata": {
    "colab": {
     "base_uri": "https://localhost:8080/"
    },
    "executionInfo": {
     "elapsed": 2471,
     "status": "ok",
     "timestamp": 1629474069614,
     "user": {
      "displayName": "Марат Ахмадеев",
      "photoUrl": "",
      "userId": "12759446680948529599"
     },
     "user_tz": -180
    },
    "id": "wskTUXSwnPJD",
    "outputId": "9c1f5659-b4e6-481f-cb5b-8802c8ef3df6"
   },
   "outputs": [
    {
     "name": "stdout",
     "output_type": "stream",
     "text": [
      "Drive already mounted at /gdrive; to attempt to forcibly remount, call drive.mount(\"/gdrive\", force_remount=True).\n"
     ]
    }
   ],
   "source": [
    "import tensorflow as tf\n",
    "import pandas as pd\n",
    "from google.colab import drive\n",
    "drive.mount('/gdrive' )\n",
    "\n",
    "from sklearn.preprocessing import StandardScaler\n",
    "scaler = StandardScaler()\n",
    "\n",
    "tf.compat.v1.disable_eager_execution()"
   ]
  },
  {
   "cell_type": "code",
   "execution_count": 2,
   "metadata": {
    "executionInfo": {
     "elapsed": 9383,
     "status": "ok",
     "timestamp": 1629474078992,
     "user": {
      "displayName": "Марат Ахмадеев",
      "photoUrl": "",
      "userId": "12759446680948529599"
     },
     "user_tz": -180
    },
    "id": "bymhnDpRoPxO"
   },
   "outputs": [],
   "source": [
    "df_train = pd.read_csv('/fashion-mnist_train.csv')\n",
    "\n",
    "X_train = df_train.iloc[:,1:].values\n",
    "y_train = df_train.iloc[:,0].values\n",
    "\n",
    "X_train = scaler.fit_transform(X_train)\n",
    "y_train = tf.keras.utils.to_categorical(y_train, 10)"
   ]
  },
  {
   "cell_type": "code",
   "execution_count": 3,
   "metadata": {
    "executionInfo": {
     "elapsed": 754,
     "status": "ok",
     "timestamp": 1629474079729,
     "user": {
      "displayName": "Марат Ахмадеев",
      "photoUrl": "",
      "userId": "12759446680948529599"
     },
     "user_tz": -180
    },
    "id": "H8UFx95_JtZv"
   },
   "outputs": [],
   "source": [
    "df_test = pd.read_csv('/gdrive/My Drive/fashion-mnist_test.csv')\n",
    "\n",
    "X_test = df_test.iloc[:,1:].values\n",
    "y_test = df_test.iloc[:,0].values\n",
    "\n",
    "X_test = scaler.transform(X_test)\n",
    "y_test = tf.keras.utils.to_categorical(y_test, 10)"
   ]
  },
  {
   "cell_type": "code",
   "execution_count": 4,
   "metadata": {
    "executionInfo": {
     "elapsed": 17,
     "status": "ok",
     "timestamp": 1629474079730,
     "user": {
      "displayName": "Марат Ахмадеев",
      "photoUrl": "",
      "userId": "12759446680948529599"
     },
     "user_tz": -180
    },
    "id": "O67m2U21p77a"
   },
   "outputs": [],
   "source": [
    "learning_rate = 0.1\n",
    "epochs = 1000\n",
    "\n",
    "num_input = 784\n",
    "num_classes = 10\n",
    "\n",
    "X = tf.compat.v1.placeholder('float', [None, num_input])\n",
    "Y = tf.compat.v1.placeholder('float', [None, num_classes])\n",
    "\n",
    "weights = tf.Variable(tf.random.normal([num_input, num_classes]))\n",
    "biases = tf.Variable(tf.random.normal([num_classes]))\n"
   ]
  },
  {
   "cell_type": "code",
   "execution_count": 5,
   "metadata": {
    "executionInfo": {
     "elapsed": 15,
     "status": "ok",
     "timestamp": 1629474079731,
     "user": {
      "displayName": "Марат Ахмадеев",
      "photoUrl": "",
      "userId": "12759446680948529599"
     },
     "user_tz": -180
    },
    "id": "UwpEIs_4qpLt"
   },
   "outputs": [],
   "source": [
    "logits = tf.matmul(X, weights) + biases\n",
    "\n",
    "loss = tf.reduce_mean(\n",
    "    tf.nn.softmax_cross_entropy_with_logits(\n",
    "        logits=logits, labels=Y)\n",
    "                    )\n",
    "\n",
    "optimizer = tf.compat.v1.train.GradientDescentOptimizer(\n",
    "                                          learning_rate=learning_rate)\n",
    "train = optimizer.minimize(loss)\n",
    "\n",
    "correct_prediction = tf.equal(tf.argmax(logits, 1), tf.argmax(Y, 1))\n",
    "accuracy = tf.reduce_mean(tf.cast(correct_prediction, tf.float32))\n",
    "\n",
    "init = tf.compat.v1.global_variables_initializer()"
   ]
  },
  {
   "cell_type": "code",
   "execution_count": 6,
   "metadata": {
    "executionInfo": {
     "elapsed": 295052,
     "status": "ok",
     "timestamp": 1629474374771,
     "user": {
      "displayName": "Марат Ахмадеев",
      "photoUrl": "",
      "userId": "12759446680948529599"
     },
     "user_tz": -180
    },
    "id": "_lqdQYos-Nl8"
   },
   "outputs": [],
   "source": [
    "train_scores = []\n",
    "test_scores = []\n",
    "\n",
    "with tf.compat.v1.Session() as sess:\n",
    "    sess.run(init)\n",
    "\n",
    "    for epoch in range(epochs):\n",
    "        sess.run(train, feed_dict={X: X_train, Y: y_train})\n",
    "\n",
    "        if epoch % 50 == 0 or epoch == (epochs - 1):\n",
    "            train_accuracy = sess.run(accuracy, \n",
    "                                      feed_dict={\n",
    "                                                  X: X_train,\n",
    "                                                  Y: y_train\n",
    "                                                }\n",
    "                                      )\n",
    "            \n",
    "            test_accuracy = sess.run(accuracy, \n",
    "                                      feed_dict={\n",
    "                                                  X: X_test,\n",
    "                                                  Y: y_test\n",
    "                                                }\n",
    "                                      )\n",
    "            train_scores.append((epoch, train_accuracy))\n",
    "            test_scores.append((epoch, test_accuracy))\n",
    "            \n",
    "\n",
    "    "
   ]
  },
  {
   "cell_type": "markdown",
   "metadata": {},
   "source": [
    "Изменение метрики accuracy на тренировочных и тестовых данных в процессе обучения модели, созданной вручную. Итоговый показатель - 0,77."
   ]
  },
  {
   "cell_type": "code",
   "execution_count": 7,
   "metadata": {
    "colab": {
     "base_uri": "https://localhost:8080/"
    },
    "executionInfo": {
     "elapsed": 259,
     "status": "ok",
     "timestamp": 1629474456148,
     "user": {
      "displayName": "Марат Ахмадеев",
      "photoUrl": "",
      "userId": "12759446680948529599"
     },
     "user_tz": -180
    },
    "id": "MgDiCyWePqwD",
    "outputId": "6a82f8bd-2a4c-4908-f97e-05001c5e4b12"
   },
   "outputs": [
    {
     "data": {
      "text/plain": [
       "[(0, 0.14113334),\n",
       " (50, 0.5362333),\n",
       " (100, 0.61865),\n",
       " (150, 0.6547833),\n",
       " (200, 0.67793334),\n",
       " (250, 0.6952),\n",
       " (300, 0.7076333),\n",
       " (350, 0.71751666),\n",
       " (400, 0.72495),\n",
       " (450, 0.7306833),\n",
       " (500, 0.736),\n",
       " (550, 0.74085),\n",
       " (600, 0.7453333),\n",
       " (650, 0.74908334),\n",
       " (700, 0.75215),\n",
       " (750, 0.7547333),\n",
       " (800, 0.75761664),\n",
       " (850, 0.7596833),\n",
       " (900, 0.76156664),\n",
       " (950, 0.76351666),\n",
       " (999, 0.76533335)]"
      ]
     },
     "execution_count": 7,
     "metadata": {},
     "output_type": "execute_result"
    }
   ],
   "source": [
    "train_scores"
   ]
  },
  {
   "cell_type": "code",
   "execution_count": 8,
   "metadata": {
    "colab": {
     "base_uri": "https://localhost:8080/"
    },
    "executionInfo": {
     "elapsed": 255,
     "status": "ok",
     "timestamp": 1629474475625,
     "user": {
      "displayName": "Марат Ахмадеев",
      "photoUrl": "",
      "userId": "12759446680948529599"
     },
     "user_tz": -180
    },
    "id": "hmuy4-viPv_X",
    "outputId": "bde40d70-31c4-4201-db59-3e5b5011c778"
   },
   "outputs": [
    {
     "data": {
      "text/plain": [
       "[(0, 0.1454),\n",
       " (50, 0.5428),\n",
       " (100, 0.623),\n",
       " (150, 0.6601),\n",
       " (200, 0.6822),\n",
       " (250, 0.6971),\n",
       " (300, 0.7086),\n",
       " (350, 0.7192),\n",
       " (400, 0.726),\n",
       " (450, 0.7316),\n",
       " (500, 0.737),\n",
       " (550, 0.7425),\n",
       " (600, 0.7473),\n",
       " (650, 0.7501),\n",
       " (700, 0.7535),\n",
       " (750, 0.7569),\n",
       " (800, 0.7599),\n",
       " (850, 0.762),\n",
       " (900, 0.7632),\n",
       " (950, 0.7652),\n",
       " (999, 0.7676)]"
      ]
     },
     "execution_count": 8,
     "metadata": {},
     "output_type": "execute_result"
    }
   ],
   "source": [
    "test_scores"
   ]
  },
  {
   "cell_type": "code",
   "execution_count": 9,
   "metadata": {
    "executionInfo": {
     "elapsed": 256,
     "status": "ok",
     "timestamp": 1629474883989,
     "user": {
      "displayName": "Марат Ахмадеев",
      "photoUrl": "",
      "userId": "12759446680948529599"
     },
     "user_tz": -180
    },
    "id": "3RPN2MRXP0vk"
   },
   "outputs": [],
   "source": [
    "from sklearn.linear_model import LogisticRegression"
   ]
  },
  {
   "cell_type": "code",
   "execution_count": null,
   "metadata": {
    "id": "F8rTQgJpRYcQ"
   },
   "outputs": [],
   "source": [
    "clf = LogisticRegression()\n",
    "\n",
    "y_train = df_train.iloc[:,0].values\n",
    "y_test = df_test.iloc[:,0].values\n",
    "\n",
    "clf.fit(X_train, y_train)\n"
   ]
  },
  {
   "cell_type": "markdown",
   "metadata": {},
   "source": [
    "Подсчет метрики \"коробочной\" модели с дефолтными параметрами"
   ]
  },
  {
   "cell_type": "code",
   "execution_count": 23,
   "metadata": {
    "colab": {
     "base_uri": "https://localhost:8080/"
    },
    "executionInfo": {
     "elapsed": 644,
     "status": "ok",
     "timestamp": 1629477769541,
     "user": {
      "displayName": "Марат Ахмадеев",
      "photoUrl": "",
      "userId": "12759446680948529599"
     },
     "user_tz": -180
    },
    "id": "DZ3kmx2VUn-7",
    "outputId": "e483588c-c81d-4563-94b6-e5f7c33c3e23"
   },
   "outputs": [
    {
     "data": {
      "text/plain": [
       "(0.8766166666666667, 0.8521)"
      ]
     },
     "execution_count": 23,
     "metadata": {},
     "output_type": "execute_result"
    }
   ],
   "source": [
    "clf.score(X_train, y_train), clf.score(X_test, y_test)"
   ]
  },
  {
   "cell_type": "markdown",
   "metadata": {},
   "source": [
    "Подбор оптимальных параметров для наилучшего показателя accuracy"
   ]
  },
  {
   "cell_type": "code",
   "execution_count": null,
   "metadata": {
    "id": "ZgUfxxCSdBu6"
   },
   "outputs": [],
   "source": [
    "from sklearn.model_selection import GridSearchCV\n",
    "\n",
    "grid_clf = GridSearchCV(clf, param_grid = {'C': [0.1, 0.5, 1, 10],\n",
    "                                           'penalty': ['l1', 'l2', 'elasticnet'],\n",
    "                                           'solver': ['lbfgs', 'saga']},\n",
    "                        cv=3\n",
    "                        )\n",
    "grid_clf.fit(X_train, y_train)"
   ]
  },
  {
   "cell_type": "code",
   "execution_count": 28,
   "metadata": {
    "colab": {
     "base_uri": "https://localhost:8080/"
    },
    "executionInfo": {
     "elapsed": 536,
     "status": "ok",
     "timestamp": 1629486003913,
     "user": {
      "displayName": "Марат Ахмадеев",
      "photoUrl": "",
      "userId": "12759446680948529599"
     },
     "user_tz": -180
    },
    "id": "i3rP6-0PeDDP",
    "outputId": "ea276a3a-a67a-4a32-f7cd-a58dd8e91992"
   },
   "outputs": [
    {
     "data": {
      "text/plain": [
       "({'C': 0.5, 'penalty': 'l2', 'solver': 'saga'}, 0.85315)"
      ]
     },
     "execution_count": 28,
     "metadata": {},
     "output_type": "execute_result"
    }
   ],
   "source": [
    "grid_clf.best_params_, grid_clf.best_score_"
   ]
  },
  {
   "cell_type": "code",
   "execution_count": null,
   "metadata": {
    "id": "pOIyMPR37zMB"
   },
   "outputs": [],
   "source": [
    "clf_best = LogisticRegression(C=0.5, penalty='l2', solver='saga')\n",
    "clf_best.fit(X_train, y_train)"
   ]
  },
  {
   "cell_type": "markdown",
   "metadata": {},
   "source": [
    "Подсчет метрики с оптимальными параметрами - на тестовых данных показатель немного улучшился"
   ]
  },
  {
   "cell_type": "code",
   "execution_count": 31,
   "metadata": {
    "colab": {
     "base_uri": "https://localhost:8080/"
    },
    "executionInfo": {
     "elapsed": 721,
     "status": "ok",
     "timestamp": 1629487409319,
     "user": {
      "displayName": "Марат Ахмадеев",
      "photoUrl": "",
      "userId": "12759446680948529599"
     },
     "user_tz": -180
    },
    "id": "hZ6Rj2oF_3Qj",
    "outputId": "ebcacd59-4ffc-4358-ba33-fde3a6332fef"
   },
   "outputs": [
    {
     "data": {
      "text/plain": [
       "(0.8654, 0.8579)"
      ]
     },
     "execution_count": 31,
     "metadata": {},
     "output_type": "execute_result"
    }
   ],
   "source": [
    "clf_best.score(X_train, y_train), clf_best.score(X_test, y_test)"
   ]
  },
  {
   "cell_type": "code",
   "execution_count": 32,
   "metadata": {
    "executionInfo": {
     "elapsed": 327,
     "status": "ok",
     "timestamp": 1629487894731,
     "user": {
      "displayName": "Марат Ахмадеев",
      "photoUrl": "",
      "userId": "12759446680948529599"
     },
     "user_tz": -180
    },
    "id": "ui1NUPmJBGK6"
   },
   "outputs": [],
   "source": [
    "import matplotlib.pyplot as plt\n",
    "%matplotlib inline"
   ]
  },
  {
   "cell_type": "code",
   "execution_count": 71,
   "metadata": {
    "colab": {
     "base_uri": "https://localhost:8080/",
     "height": 380
    },
    "executionInfo": {
     "elapsed": 885,
     "status": "ok",
     "timestamp": 1629491335630,
     "user": {
      "displayName": "Марат Ахмадеев",
      "photoUrl": "",
      "userId": "12759446680948529599"
     },
     "user_tz": -180
    },
    "id": "_BhO9euVDA2-",
    "outputId": "bccf4e0a-54c4-463b-c203-5d6d8da2205c"
   },
   "outputs": [
    {
     "data": {
      "image/png": "[encoded data removed]",
      "text/plain": [
       "<Figure size 720x360 with 1 Axes>"
      ]
     },
     "metadata": {
      "needs_background": "light"
     },
     "output_type": "display_data"
    }
   ],
   "source": [
    "plt.figure(figsize=(10,5))\n",
    "plt.plot([i[0] for i in train_scores], [i[1] for i in train_scores],\n",
    "         '-o', c='blue', label='Train data', alpha=0.5, markersize=3)\n",
    "plt.plot([i[0] for i in test_scores], [i[1] for i in test_scores],\n",
    "         '-o', c='red', label='Test data', alpha=0.5, markersize=3)\n",
    "\n",
    "plt.scatter(999, clf_best.score(X_test, y_test), c='green',\n",
    "            alpha=0.5, label='GridSearchCV')\n",
    "\n",
    "plt.xlabel('Epochs')\n",
    "plt.ylabel('Accuracy score')\n",
    "plt.title('Train/test accuracy score by epochs on tensorflow vs.\\nstandard logistic regression model from sklearn\\n(best params by GridSearchCV)')\n",
    "plt.legend();"
   ]
  },
  {
   "cell_type": "markdown",
   "metadata": {
    "id": "KbKR7YTBLJGA"
   },
   "source": [
    "График изменения метрики на тестовых и тренировочных данных по мере обучения \"ручной\" модели и точкой обозначена валидационная accuracy \"коробочной\" модели с оптимальными параметрами. Итоговые значения на тестовых данных - 0,86 и 0,77 в пользу \"коробочного\" решения."
   ]
  },
  {
   "cell_type": "code",
   "execution_count": null,
   "metadata": {},
   "outputs": [],
   "source": []
  }
 ],
 "metadata": {
  "colab": {
   "authorship_tag": "ABX9TyNb9QxZ4t+PnoMPPywzUn+c",
   "name": "Untitled6.ipynb",
   "provenance": []
  },
  "kernelspec": {
   "display_name": "Python 3",
   "language": "python",
   "name": "python3"
  },
  "language_info": {
   "codemirror_mode": {
    "name": "ipython",
    "version": 3
   },
   "file_extension": ".py",
   "mimetype": "text/x-python",
   "name": "python",
   "nbconvert_exporter": "python",
   "pygments_lexer": "ipython3",
   "version": "3.8.5"
  },
  "toc": {
   "base_numbering": 1,
   "nav_menu": {},
   "number_sections": true,
   "sideBar": true,
   "skip_h1_title": false,
   "title_cell": "Table of Contents",
   "title_sidebar": "Contents",
   "toc_cell": false,
   "toc_position": {},
   "toc_section_display": true,
   "toc_window_display": false
  }
 },
 "nbformat": 4,
 "nbformat_minor": 1
}
