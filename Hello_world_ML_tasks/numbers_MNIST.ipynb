{
 "cells": [
  {
   "cell_type": "markdown",
   "metadata": {},
   "source": [
    "Exercises\n",
    "\n",
    "1) Try to build a classifier for the MNIST dataset that achieves over 97% accuracy on the test set. Hint: the KNeighborsClassifier works quite well for this task; you just need to find good hyperparameter values (try a grid search on the weights and n_neighbors hyperparameters).\n",
    "\n",
    "2) Write a function that can shift an MNIST image in any direction (left, right, up, or down) by one pixel. Then, for each image in the training set, create four shifted copies (one per direction) and add them to the training set. Finally, train your best model on this expanded training set and measure its accuracy on the test set. You should observe that your model performs even better now! This technique of artificially growing the training set is called data augmentation or training set expansion."
   ]
  },
  {
   "cell_type": "code",
   "execution_count": 13,
   "metadata": {
    "id": "PC6de3m-dQtY"
   },
   "outputs": [],
   "source": [
    "from sklearn.neighbors import KNeighborsClassifier\n",
    "from sklearn.model_selection import GridSearchCV\n",
    "from sklearn.datasets import fetch_openml\n",
    "from sklearn.preprocessing import StandardScaler\n",
    "from sklearn.pipeline import Pipeline\n",
    "from sklearn.preprocessing import MinMaxScaler\n",
    "from sklearn.metrics import accuracy_score, precision_score, recall_score, f1_score\n",
    "from sklearn.model_selection import cross_val_score\n",
    "from sklearn.model_selection import train_test_split\n",
    "import pandas as pd\n",
    "import numpy as np\n",
    "import matplotlib.pyplot as plt"
   ]
  },
  {
   "cell_type": "markdown",
   "metadata": {},
   "source": [
    "My machine couldn't cope with the whole dataset using neighbors algorithm - so I had to take only a small part of the dataset (the part that supposed to be a test set). The reducing training dataset of course had a negative effect on learning"
   ]
  },
  {
   "cell_type": "code",
   "execution_count": 2,
   "metadata": {
    "id": "NHE73osjfNbD"
   },
   "outputs": [],
   "source": [
    "X, y = fetch_openml('mnist_784', return_X_y=True)\n",
    "X, y = X[60000:], y[60000:]"
   ]
  },
  {
   "cell_type": "code",
   "execution_count": 3,
   "metadata": {
    "id": "MTYi_m-YMrAh"
   },
   "outputs": [],
   "source": [
    "X_train, X_test, y_train, y_test = train_test_split(X, y, random_state=0, stratify=y)"
   ]
  },
  {
   "cell_type": "code",
   "execution_count": null,
   "metadata": {
    "colab": {
     "base_uri": "https://localhost:8080/"
    },
    "id": "0fM5hFM-3Gm3",
    "outputId": "7a1b7811-4545-4fa6-84f5-44487f06423e"
   },
   "outputs": [
    {
     "data": {
      "text/plain": [
       "(array(['0', '1', '2', '3', '4', '5', '6', '7', '8', '9'], dtype=object),\n",
       " array([735, 851, 774, 757, 736, 669, 719, 771, 731, 757]))"
      ]
     },
     "execution_count": 44,
     "metadata": {},
     "output_type": "execute_result"
    }
   ],
   "source": [
    "np.unique(y_train, return_counts=True)"
   ]
  },
  {
   "cell_type": "code",
   "execution_count": null,
   "metadata": {
    "colab": {
     "base_uri": "https://localhost:8080/"
    },
    "id": "Ft6zVrvi3Tzx",
    "outputId": "cbc7be84-132b-4d8d-ae53-a86c3508f4a0"
   },
   "outputs": [
    {
     "data": {
      "text/plain": [
       "(array(['0', '1', '2', '3', '4', '5', '6', '7', '8', '9'], dtype=object),\n",
       " array([245, 284, 258, 253, 246, 223, 239, 257, 243, 252]))"
      ]
     },
     "execution_count": 45,
     "metadata": {},
     "output_type": "execute_result"
    }
   ],
   "source": [
    "np.unique(y_test, return_counts=True)"
   ]
  },
  {
   "cell_type": "code",
   "execution_count": null,
   "metadata": {
    "id": "r2wjRE_jO0he"
   },
   "outputs": [],
   "source": [
    "clf = KNeighborsClassifier(3)"
   ]
  },
  {
   "cell_type": "code",
   "execution_count": null,
   "metadata": {
    "colab": {
     "base_uri": "https://localhost:8080/"
    },
    "id": "U_LVdBxHHzo_",
    "outputId": "841b9119-765e-4681-b37f-0a017b8d3a13"
   },
   "outputs": [
    {
     "name": "stdout",
     "output_type": "stream",
     "text": [
      "[0.8964 0.9076 0.9032]\n",
      "[0.9428 0.9372 0.9436]\n"
     ]
    }
   ],
   "source": [
    "std_scaler = StandardScaler()\n",
    "X_train_std = std_scaler.fit_transform(X_train)\n",
    "cv_std = cross_val_score(clf, X_train_std, y_train, scoring='accuracy', cv=3)\n",
    "\n",
    "mm_scaler = MinMaxScaler()\n",
    "X_train_mm = mm_scaler.fit_transform(X_train)\n",
    "cv_mm = cross_val_score(clf, X_train_mm, y_train, scoring='accuracy', cv=3)\n",
    "\n",
    "print(cv_std, cv_mm, sep='\\n')"
   ]
  },
  {
   "cell_type": "code",
   "execution_count": null,
   "metadata": {
    "colab": {
     "base_uri": "https://localhost:8080/"
    },
    "id": "StLaEiFAfpTK",
    "outputId": "7b7d7280-2eb7-4240-bf7e-52fea9786b8b"
   },
   "outputs": [
    {
     "name": "stdout",
     "output_type": "stream",
     "text": [
      "0.9354666666666667 {'clf__n_neighbors': 4, 'clf__weights': 'uniform', 'scaling': MinMaxScaler(copy=True, feature_range=(0, 1))}\n",
      "0.8989333333333333 {'clf__n_neighbors': 4, 'clf__weights': 'uniform', 'scaling': StandardScaler(copy=True, with_mean=True, with_std=True)}\n",
      "0.9449333333333333 {'clf__n_neighbors': 4, 'clf__weights': 'distance', 'scaling': MinMaxScaler(copy=True, feature_range=(0, 1))}\n",
      "0.9091999999999999 {'clf__n_neighbors': 4, 'clf__weights': 'distance', 'scaling': StandardScaler(copy=True, with_mean=True, with_std=True)}\n",
      "0.9381333333333334 {'clf__n_neighbors': 5, 'clf__weights': 'uniform', 'scaling': MinMaxScaler(copy=True, feature_range=(0, 1))}\n",
      "0.8999999999999999 {'clf__n_neighbors': 5, 'clf__weights': 'uniform', 'scaling': StandardScaler(copy=True, with_mean=True, with_std=True)}\n",
      "0.9397333333333334 {'clf__n_neighbors': 5, 'clf__weights': 'distance', 'scaling': MinMaxScaler(copy=True, feature_range=(0, 1))}\n",
      "0.9053333333333334 {'clf__n_neighbors': 5, 'clf__weights': 'distance', 'scaling': StandardScaler(copy=True, with_mean=True, with_std=True)}\n",
      "0.9349333333333334 {'clf__n_neighbors': 6, 'clf__weights': 'uniform', 'scaling': MinMaxScaler(copy=True, feature_range=(0, 1))}\n",
      "0.8974666666666667 {'clf__n_neighbors': 6, 'clf__weights': 'uniform', 'scaling': StandardScaler(copy=True, with_mean=True, with_std=True)}\n",
      "0.9429333333333334 {'clf__n_neighbors': 6, 'clf__weights': 'distance', 'scaling': MinMaxScaler(copy=True, feature_range=(0, 1))}\n",
      "0.906 {'clf__n_neighbors': 6, 'clf__weights': 'distance', 'scaling': StandardScaler(copy=True, with_mean=True, with_std=True)}\n"
     ]
    }
   ],
   "source": [
    "knn = Pipeline([('scaling', StandardScaler()),\n",
    "                ('clf', KNeighborsClassifier())])\n",
    "\n",
    "grid = GridSearchCV(knn, {'scaling': [MinMaxScaler(), StandardScaler()], \n",
    "                          'clf__n_neighbors': [4, 5, 6], \n",
    "                          'clf__weights': ['uniform', 'distance']}, \n",
    "                    cv=3, scoring='accuracy')\n",
    "\n",
    "grid.fit(X_train, y_train)\n",
    "\n",
    "cvres = grid.cv_results_\n",
    "for mean_score, params in zip(cvres[\"mean_test_score\"], cvres[\"params\"]):\n",
    "    print(mean_score, params)"
   ]
  },
  {
   "cell_type": "code",
   "execution_count": null,
   "metadata": {
    "colab": {
     "base_uri": "https://localhost:8080/"
    },
    "id": "2rFF-lMmVGjh",
    "outputId": "ca7aa2ac-e324-4cad-a82b-f37cc5d71512"
   },
   "outputs": [
    {
     "name": "stdout",
     "output_type": "stream",
     "text": [
      "0.9308000000000001 {'n_neighbors': 8, 'weights': 'uniform'}\n",
      "0.9385333333333333 {'n_neighbors': 8, 'weights': 'distance'}\n",
      "0.9283999999999999 {'n_neighbors': 11, 'weights': 'uniform'}\n",
      "0.9338666666666665 {'n_neighbors': 11, 'weights': 'distance'}\n",
      "0.9254666666666665 {'n_neighbors': 14, 'weights': 'uniform'}\n",
      "0.9308 {'n_neighbors': 14, 'weights': 'distance'}\n",
      "0.9210666666666666 {'n_neighbors': 17, 'weights': 'uniform'}\n",
      "0.9261333333333334 {'n_neighbors': 17, 'weights': 'distance'}\n",
      "0.9196 {'n_neighbors': 20, 'weights': 'uniform'}\n",
      "0.9229333333333334 {'n_neighbors': 20, 'weights': 'distance'}\n"
     ]
    }
   ],
   "source": [
    "grid_mm = GridSearchCV(KNeighborsClassifier(), {'n_neighbors': list(range(8,21,3)),\n",
    "                                                'weights': ['uniform', 'distance']}, \n",
    "                        cv=3, scoring='accuracy')\n",
    "\n",
    "grid_mm.fit(X_train_mm, y_train)\n",
    "\n",
    "cvres_mm = grid_mm.cv_results_\n",
    "for mean_score, params in zip(cvres_mm[\"mean_test_score\"], cvres_mm[\"params\"]):\n",
    "    print(mean_score, params)"
   ]
  },
  {
   "cell_type": "code",
   "execution_count": null,
   "metadata": {
    "colab": {
     "base_uri": "https://localhost:8080/"
    },
    "id": "VqIUlrKCfT2J",
    "outputId": "af53bec4-3f06-40ef-ee31-32a525279268"
   },
   "outputs": [
    {
     "data": {
      "text/plain": [
       "Pipeline(memory=None,\n",
       "         steps=[('scaling', MinMaxScaler(copy=True, feature_range=(0, 1))),\n",
       "                ('clf',\n",
       "                 KNeighborsClassifier(algorithm='auto', leaf_size=30,\n",
       "                                      metric='minkowski', metric_params=None,\n",
       "                                      n_jobs=None, n_neighbors=4, p=2,\n",
       "                                      weights='distance'))],\n",
       "         verbose=False)"
      ]
     },
     "execution_count": 14,
     "metadata": {},
     "output_type": "execute_result"
    }
   ],
   "source": [
    "grid.best_estimator_"
   ]
  },
  {
   "cell_type": "code",
   "execution_count": null,
   "metadata": {
    "colab": {
     "base_uri": "https://localhost:8080/"
    },
    "id": "RGgZBXOw02Zt",
    "outputId": "35a15dfc-ee5b-4a31-ac08-c0ac71f0de65"
   },
   "outputs": [
    {
     "data": {
      "text/plain": [
       "0.9552"
      ]
     },
     "execution_count": 49,
     "metadata": {},
     "output_type": "execute_result"
    }
   ],
   "source": [
    "grid_best = grid.best_estimator_.fit(X_train, y_train)\n",
    "grid_best.score(X_test, y_test)"
   ]
  },
  {
   "cell_type": "code",
   "execution_count": 4,
   "metadata": {
    "id": "MpMz1wWFBLav"
   },
   "outputs": [],
   "source": [
    "from scipy.ndimage.interpolation import shift\n",
    "from sklearn.base import BaseEstimator, TransformerMixin\n",
    "\n",
    "class ImageShift(BaseEstimator, TransformerMixin):\n",
    "    def __init__(self, pixh, pixv): \n",
    "        self.pixh = pixh\n",
    "        self.pixv = pixv\n",
    "    def fit(self, X, y):\n",
    "        return self  \n",
    "    def transform(self, X, y):\n",
    "        temp = np.empty((1, 784), 'int')\n",
    "        \n",
    "        for i in range(len(X)):\n",
    "            temp = np.append(temp, shift(X[i].reshape(28, 28), \n",
    "                                [self.pixv, 0]).reshape(1, 784), axis=0)\n",
    "            temp = np.append(temp, shift(X[i].reshape(28, 28), \n",
    "                                [-self.pixv, 0]).reshape(1, 784), axis=0)\n",
    "            temp = np.append(temp, shift(X[i].reshape(28, 28), \n",
    "                                [0, self.pixh]).reshape(1, 784), axis=0)\n",
    "            temp = np.append(temp, shift(X[i].reshape(28, 28), \n",
    "                                [0, -self.pixh]).reshape(1, 784), axis=0)\n",
    "        \n",
    "        X = np.insert(temp[1:], range(0, len(temp[1:]), len(temp[1:]) // len(X)), X, 0)\n",
    "        y_temp = np.insert(y, range(len(y)), y, 0)\n",
    "        y_temp = np.insert(y_temp, range(len(y_temp)), y_temp, 0)\n",
    "        y = np.insert(y_temp, range(0, len(y_temp), len(y_temp) // len(y)), y, 0)\n",
    "\n",
    "        return X, y\n",
    "\n",
    "\n"
   ]
  },
  {
   "cell_type": "code",
   "execution_count": null,
   "metadata": {
    "id": "aT_9yFStWejB"
   },
   "outputs": [],
   "source": [
    "# Doesn't combine fit_transform - wrote this function in my class specifically lower\n",
    "\n",
    "img_shifter = ImageShift(1, 1)\n",
    "img_shifter.fit(X_train, y_train)\n",
    "\n",
    "X_train_sh, y_train_sh = img_shifter.transform(X_train, y_train)"
   ]
  },
  {
   "cell_type": "code",
   "execution_count": 5,
   "metadata": {
    "id": "Fz0C1dQrx_Rw"
   },
   "outputs": [],
   "source": [
    "img = ImageShift(1, 1).fit(X_train[:5], y_train[:5])\n",
    "X_train_sh, y_train_sh = img.transform(X_train[:5], y_train[:5])"
   ]
  },
  {
   "cell_type": "code",
   "execution_count": null,
   "metadata": {
    "colab": {
     "base_uri": "https://localhost:8080/"
    },
    "id": "2iNTYF3I4fy_",
    "outputId": "d475996b-1c74-4b74-95c5-3fbb949f819b"
   },
   "outputs": [
    {
     "data": {
      "text/plain": [
       "0.964"
      ]
     },
     "execution_count": 53,
     "metadata": {},
     "output_type": "execute_result"
    }
   ],
   "source": [
    "grid_best_sh = grid.best_estimator_.fit(X_train_sh, y_train_sh)\n",
    "grid_best_sh.score(X_test, y_test)"
   ]
  },
  {
   "cell_type": "markdown",
   "metadata": {},
   "source": [
    "Implementing the image shift results in \"combinatorial explosion\", so I had to use it only on very small number of instances just for learning purposes"
   ]
  },
  {
   "cell_type": "code",
   "execution_count": 8,
   "metadata": {},
   "outputs": [
    {
     "data": {
      "text/plain": [
       "(25, 25)"
      ]
     },
     "execution_count": 8,
     "metadata": {},
     "output_type": "execute_result"
    }
   ],
   "source": [
    "len(X_train_sh), len(y_train_sh)"
   ]
  },
  {
   "cell_type": "code",
   "execution_count": 34,
   "metadata": {},
   "outputs": [
    {
     "data": {
      "image/png": "[encoded data removed]",
      "text/plain": [
       "<Figure size 864x216 with 5 Axes>"
      ]
     },
     "metadata": {
      "needs_background": "light"
     },
     "output_type": "display_data"
    }
   ],
   "source": [
    "shifted_image = ImageShift(5, -5).fit(X_train[:5], y_train[:5])\n",
    "X_train_sh, y_train_sh = shifted_image.transform(X_train[:5], y_train[:5])\n",
    "\n",
    "plt.figure(figsize=(12,3))\n",
    "plt.subplot(151)\n",
    "plt.title(\"Original\", fontsize=14)\n",
    "plt.imshow(X_train_sh[0].reshape(28, 28), interpolation=\"nearest\", cmap=\"Greys\")\n",
    "plt.subplot(152)\n",
    "plt.title(\"Shifted_up\", fontsize=14)\n",
    "plt.imshow(X_train_sh[1].reshape(28, 28), interpolation=\"nearest\", cmap=\"Greys\")\n",
    "plt.subplot(153)\n",
    "plt.title(\"Shifted_down\", fontsize=14)\n",
    "plt.imshow(X_train_sh[2].reshape(28, 28), interpolation=\"nearest\", cmap=\"Greys\")\n",
    "plt.subplot(154)\n",
    "plt.title(\"Shifted_right\", fontsize=14)\n",
    "plt.imshow(X_train_sh[3].reshape(28, 28), interpolation=\"nearest\", cmap=\"Greys\")\n",
    "plt.subplot(155)\n",
    "plt.title(\"Shifted_left\", fontsize=14)\n",
    "plt.imshow(X_train_sh[4].reshape(28, 28), interpolation=\"nearest\", cmap=\"Greys\")\n",
    "\n",
    "plt.show()"
   ]
  },
  {
   "cell_type": "code",
   "execution_count": 9,
   "metadata": {
    "id": "knIuCqB77lo2"
   },
   "outputs": [],
   "source": [
    "from scipy.ndimage.interpolation import shift\n",
    "from sklearn.base import BaseEstimator, TransformerMixin\n",
    "\n",
    "class ImageShift(BaseEstimator, TransformerMixin):\n",
    "    def __init__(self, pixh=1, pixv=1): \n",
    "        self.pixh = pixh\n",
    "        self.pixv = pixv\n",
    "    def fit(self, X, y):\n",
    "        return self  \n",
    "    def transform(self, X, y):\n",
    "        temp = np.empty((1, 784), 'int')\n",
    "        \n",
    "        for i in range(len(X)):\n",
    "            temp = np.append(temp, shift(X[i].reshape(28, 28), \n",
    "                                [self.pixv, 0]).reshape(1, 784), axis=0)\n",
    "            temp = np.append(temp, shift(X[i].reshape(28, 28), \n",
    "                                [-self.pixv, 0]).reshape(1, 784), axis=0)\n",
    "            temp = np.append(temp, shift(X[i].reshape(28, 28), \n",
    "                                [0, self.pixh]).reshape(1, 784), axis=0)\n",
    "            temp = np.append(temp, shift(X[i].reshape(28, 28), \n",
    "                                [0, -self.pixh]).reshape(1, 784), axis=0)\n",
    "        \n",
    "        X = np.insert(temp[1:], range(0, len(temp[1:]), len(temp[1:]) // len(X)), X, 0)\n",
    "        y_temp = np.insert(y, range(len(y)), y, 0)\n",
    "        y_temp = np.insert(y_temp, range(len(y_temp)), y_temp, 0)\n",
    "        y = np.insert(y_temp, range(0, len(y_temp), len(y_temp) // len(y)), y, 0)\n",
    "\n",
    "        return X, y\n",
    "\n",
    "    def fit_transform(self, X, y):\n",
    "        temp = np.empty((1, 784), 'int')\n",
    "        \n",
    "        for i in range(len(X)):\n",
    "            temp = np.append(temp, shift(X[i].reshape(28, 28), \n",
    "                                [self.pixv, 0]).reshape(1, 784), axis=0)\n",
    "            temp = np.append(temp, shift(X[i].reshape(28, 28), \n",
    "                                [-self.pixv, 0]).reshape(1, 784), axis=0)\n",
    "            temp = np.append(temp, shift(X[i].reshape(28, 28), \n",
    "                                [0, self.pixh]).reshape(1, 784), axis=0)\n",
    "            temp = np.append(temp, shift(X[i].reshape(28, 28), \n",
    "                                [0, -self.pixh]).reshape(1, 784), axis=0)\n",
    "        \n",
    "        X = np.insert(temp[1:], range(0, len(temp[1:]), len(temp[1:]) // len(X)), X, 0)\n",
    "        y_temp = np.insert(y, range(len(y)), y, 0)\n",
    "        y_temp = np.insert(y_temp, range(len(y_temp)), y_temp, 0)\n",
    "        y = np.insert(y_temp, range(0, len(y_temp), len(y_temp) // len(y)), y, 0)\n",
    "\n",
    "        return X, y"
   ]
  },
  {
   "cell_type": "code",
   "execution_count": null,
   "metadata": {
    "id": "w-2NS69-7zsn"
   },
   "outputs": [],
   "source": [
    "# Straight gridsearch doesn't work with my shifting class \n",
    "# (I guess cannot process the transformed y output)\n",
    "# Wrote my own grid function lower\n",
    "\n",
    "pipe_shift = Pipeline([('img_shifter', ImageShift()), \n",
    "                       ('scaling', StandardScaler()),\n",
    "                       ('clf', KNeighborsClassifier())])\n",
    "\n",
    "param = {'img_shifter__pixh': [1, 2, 3],\n",
    "         'img_shifter__pixv': [1, 2, 3],\n",
    "         'scaling': [MinMaxScaler(), StandardScaler()], \n",
    "         'clf__n_neighbors': [4, 6, 8], \n",
    "         'clf__weights': ['uniform', 'distance']}\n",
    "\n",
    "grid_shift = GridSearchCV(pipe_shift, param, cv=3, scoring='accuracy')\n",
    "\n",
    "grid_shift.fit(X_train[:50], y_train[:50])\n",
    "\n",
    "cvres = grid_shift.cv_results_\n",
    "for mean_score, params in zip(cvres[\"mean_test_score\"], cvres[\"params\"]):\n",
    "    print(mean_score, params)"
   ]
  },
  {
   "cell_type": "code",
   "execution_count": null,
   "metadata": {
    "id": "nLT5RvrF_s4L"
   },
   "outputs": [],
   "source": [
    "def grid_shift(X, y):\n",
    "  acc = 0\n",
    "\n",
    "  pipe = Pipeline([('scaling', StandardScaler()),\n",
    "                   ('clf', KNeighborsClassifier())])\n",
    "  \n",
    "  param = {'scaling': [MinMaxScaler(), StandardScaler()], \n",
    "         'clf__n_neighbors': [4, 6, 8], \n",
    "         'clf__weights': ['uniform', 'distance']}\n",
    "\n",
    "  grid_search = GridSearchCV(pipe, param, cv=3, scoring='accuracy')\n",
    "  \n",
    "  for i in range(1,4):\n",
    "    for j in range(1,4):\n",
    "      X_sh, y_sh = ImageShift(i, j).fit_transform(X, y)\n",
    "      grid_search.fit(X_sh, y_sh)\n",
    "      if grid_search.best_score_ > acc:\n",
    "        acc = grid_search.best_score_\n",
    "        clf = grid_search.best_estimator_\n",
    "        ph, pv = i, j\n",
    "\n",
    "  return clf, ph, pv, acc\n"
   ]
  },
  {
   "cell_type": "code",
   "execution_count": 9,
   "metadata": {},
   "outputs": [
    {
     "data": {
      "text/plain": [
       "(Pipeline(steps=[('scaling', MinMaxScaler()),\n",
       "                 ('clf',\n",
       "                  KNeighborsClassifier(n_jobs=-1, n_neighbors=4,\n",
       "                                       weights='distance'))]),\n",
       " 1,\n",
       " 1,\n",
       " 0.6719693143832816)"
      ]
     },
     "execution_count": 9,
     "metadata": {},
     "output_type": "execute_result"
    }
   ],
   "source": [
    "grid_shift(X_train[:100], y_train[:100])"
   ]
  },
  {
   "cell_type": "code",
   "execution_count": null,
   "metadata": {
    "id": "w6JGs_X8C5CD"
   },
   "outputs": [],
   "source": []
  }
 ],
 "metadata": {
  "accelerator": "TPU",
  "colab": {
   "name": "Копия блокнота \"03_classification.ipynb\"",
   "provenance": []
  },
  "kernelspec": {
   "display_name": "Python 3",
   "language": "python",
   "name": "python3"
  },
  "language_info": {
   "codemirror_mode": {
    "name": "ipython",
    "version": 3
   },
   "file_extension": ".py",
   "mimetype": "text/x-python",
   "name": "python",
   "nbconvert_exporter": "python",
   "pygments_lexer": "ipython3",
   "version": "3.8.5"
  },
  "nav_menu": {},
  "toc": {
   "base_numbering": 1,
   "nav_menu": {},
   "number_sections": true,
   "sideBar": true,
   "skip_h1_title": false,
   "title_cell": "Table of Contents",
   "title_sidebar": "Contents",
   "toc_cell": false,
   "toc_position": {},
   "toc_section_display": "block",
   "toc_window_display": false
  }
 },
 "nbformat": 4,
 "nbformat_minor": 1
}
