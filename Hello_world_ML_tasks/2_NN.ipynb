{
 "cells": [
  {
   "cell_type": "markdown",
   "metadata": {},
   "source": [
    "Во второй части строятся модели нейросети - простая полносвязная с двумя скрытыми слоями, созданная вручную, и 3 конволюционные модели разной сложности с помощью компиляции готовых слоев keras."
   ]
  },
  {
   "cell_type": "code",
   "execution_count": 1,
   "metadata": {
    "colab": {
     "base_uri": "https://localhost:8080/"
    },
    "executionInfo": {
     "elapsed": 2311,
     "status": "ok",
     "timestamp": 1629709444922,
     "user": {
      "displayName": "Марат Ахмадеев",
      "photoUrl": "",
      "userId": "12759446680948529599"
     },
     "user_tz": -180
    },
    "id": "dHMBbykouqlu",
    "outputId": "2374f257-c358-4328-99b4-c85c417d2a0b"
   },
   "outputs": [
    {
     "name": "stdout",
     "output_type": "stream",
     "text": [
      "Drive already mounted at /gdrive; to attempt to forcibly remount, call drive.mount(\"/gdrive\", force_remount=True).\n"
     ]
    }
   ],
   "source": [
    "import tensorflow as tf\n",
    "import pandas as pd\n",
    "from google.colab import drive\n",
    "drive.mount('/gdrive' )\n",
    "\n",
    "from sklearn.preprocessing import StandardScaler\n",
    "scaler = StandardScaler()\n",
    "\n",
    "tf.compat.v1.disable_eager_execution()"
   ]
  },
  {
   "cell_type": "code",
   "execution_count": 2,
   "metadata": {
    "executionInfo": {
     "elapsed": 5697,
     "status": "ok",
     "timestamp": 1629709450614,
     "user": {
      "displayName": "Марат Ахмадеев",
      "photoUrl": "",
      "userId": "12759446680948529599"
     },
     "user_tz": -180
    },
    "id": "YYSdKKV4uuNV"
   },
   "outputs": [],
   "source": [
    "df_train = pd.read_csv('/fashion-mnist_train.csv')\n",
    "\n",
    "X_train = df_train.iloc[:,1:].values\n",
    "y_train = df_train.iloc[:,0].values\n",
    "\n",
    "X_train = scaler.fit_transform(X_train)\n",
    "y_train = tf.keras.utils.to_categorical(y_train, 10)"
   ]
  },
  {
   "cell_type": "code",
   "execution_count": 3,
   "metadata": {
    "executionInfo": {
     "elapsed": 510,
     "status": "ok",
     "timestamp": 1629709451085,
     "user": {
      "displayName": "Марат Ахмадеев",
      "photoUrl": "",
      "userId": "12759446680948529599"
     },
     "user_tz": -180
    },
    "id": "nU5-QuNhu7Kp"
   },
   "outputs": [],
   "source": [
    "df_test = pd.read_csv('/gdrive/My Drive/fashion-mnist_test.csv')\n",
    "\n",
    "X_test = df_test.iloc[:,1:].values\n",
    "y_test = df_test.iloc[:,0].values\n",
    "\n",
    "X_test = scaler.transform(X_test)\n",
    "y_test = tf.keras.utils.to_categorical(y_test, 10)"
   ]
  },
  {
   "cell_type": "code",
   "execution_count": 4,
   "metadata": {
    "executionInfo": {
     "elapsed": 11,
     "status": "ok",
     "timestamp": 1629709451087,
     "user": {
      "displayName": "Марат Ахмадеев",
      "photoUrl": "",
      "userId": "12759446680948529599"
     },
     "user_tz": -180
    },
    "id": "a_GE1s_hu90q"
   },
   "outputs": [],
   "source": [
    "learning_rate = 0.1\n",
    "epochs = 1000\n",
    "batch_size = 32\n",
    "\n",
    "n_hidden_1 = 256\n",
    "n_hidden_2 = 256\n",
    "num_input = 784\n",
    "num_classes = 10\n",
    "\n",
    "X = tf.compat.v1.placeholder('float', [None, num_input])\n",
    "Y = tf.compat.v1.placeholder('float', [None, num_classes])"
   ]
  },
  {
   "cell_type": "code",
   "execution_count": 5,
   "metadata": {
    "executionInfo": {
     "elapsed": 11,
     "status": "ok",
     "timestamp": 1629709451088,
     "user": {
      "displayName": "Марат Ахмадеев",
      "photoUrl": "",
      "userId": "12759446680948529599"
     },
     "user_tz": -180
    },
    "id": "Rkh6ksyXvGlO"
   },
   "outputs": [],
   "source": [
    "weights = {\n",
    "    'h1': tf.Variable(tf.random.normal([num_input, n_hidden_1])),\n",
    "    'h2': tf.Variable(tf.random.normal([n_hidden_1, n_hidden_2])),\n",
    "    'output': tf.Variable(tf.random.normal([n_hidden_2, num_classes]))\n",
    "}\n",
    "biases = {\n",
    "    'b1': tf.Variable(tf.random.normal([n_hidden_1])),\n",
    "    'b2': tf.Variable(tf.random.normal([n_hidden_2])),\n",
    "    'output': tf.Variable(tf.random.normal([num_classes]))\n",
    "}\n"
   ]
  },
  {
   "cell_type": "code",
   "execution_count": 6,
   "metadata": {
    "executionInfo": {
     "elapsed": 12,
     "status": "ok",
     "timestamp": 1629709451090,
     "user": {
      "displayName": "Марат Ахмадеев",
      "photoUrl": "",
      "userId": "12759446680948529599"
     },
     "user_tz": -180
    },
    "id": "COvEa4cUvbYk"
   },
   "outputs": [],
   "source": [
    "def network(x):\n",
    "    layer_1 = tf.add(tf.matmul(x, weights['h1']), biases['b1'])\n",
    "    layer_2 = tf.add(tf.matmul(layer_1, weights['h2']), biases['b2'])\n",
    "    output_layer = tf.matmul(layer_2, weights['output']) + biases['output']\n",
    "\n",
    "    return output_layer"
   ]
  },
  {
   "cell_type": "code",
   "execution_count": 10,
   "metadata": {
    "executionInfo": {
     "elapsed": 869,
     "status": "ok",
     "timestamp": 1629712394541,
     "user": {
      "displayName": "Марат Ахмадеев",
      "photoUrl": "",
      "userId": "12759446680948529599"
     },
     "user_tz": -180
    },
    "id": "6QlGBoycvffs"
   },
   "outputs": [],
   "source": [
    "logits = network(X)\n",
    "\n",
    "loss = tf.reduce_mean(\n",
    "    tf.nn.softmax_cross_entropy_with_logits(\n",
    "        logits=logits, labels=Y\n",
    "    )\n",
    ")\n",
    "optimizer = tf.compat.v1.train.AdamOptimizer(learning_rate=learning_rate)\n",
    "train = optimizer.minimize(loss)\n",
    "\n",
    "correct_prediction = tf.equal(tf.argmax(logits, 1), tf.argmax(Y, 1))\n",
    "accuracy = tf.reduce_mean(tf.cast(correct_prediction, tf.float32))\n",
    "\n",
    "init = tf.compat.v1.global_variables_initializer()"
   ]
  },
  {
   "cell_type": "code",
   "execution_count": 11,
   "metadata": {
    "executionInfo": {
     "elapsed": 4320509,
     "status": "ok",
     "timestamp": 1629716715528,
     "user": {
      "displayName": "Марат Ахмадеев",
      "photoUrl": "",
      "userId": "12759446680948529599"
     },
     "user_tz": -180
    },
    "id": "HykHX8vFwiLO"
   },
   "outputs": [],
   "source": [
    "train_scores = []\n",
    "test_scores = []\n",
    "\n",
    "with tf.compat.v1.Session() as sess:\n",
    "    sess.run(init)\n",
    "\n",
    "    for epoch in range(epochs):\n",
    "        for i in range(0,len(X_train),batch_size):\n",
    "            sess.run(train, feed_dict={X: X_train[i:i+batch_size],\n",
    "                                       Y: y_train[i:i+batch_size]})\n",
    "\n",
    "        if epoch % 50 == 0 or epoch == (epochs - 1):\n",
    "            train_accuracy = sess.run(accuracy, feed_dict={\n",
    "                                                           X: X_train,\n",
    "                                                           Y: y_train\n",
    "                                                          }\n",
    "                                     )\n",
    "\n",
    "            test_accuracy = sess.run(accuracy, feed_dict={\n",
    "                                                          X: X_test,\n",
    "                                                          Y: y_test\n",
    "                                                         }\n",
    "                                    )\n",
    "            train_scores.append((epoch, train_accuracy))\n",
    "            test_scores.append((epoch, test_accuracy))\n",
    "            \n"
   ]
  },
  {
   "cell_type": "markdown",
   "metadata": {},
   "source": [
    "Подсчет метрики accuracy по мере обучения простой полносвязной модели с двумя скрытыми слоями. Итоговый результат на тестовых данных - 0,79."
   ]
  },
  {
   "cell_type": "code",
   "execution_count": 12,
   "metadata": {
    "colab": {
     "base_uri": "https://localhost:8080/"
    },
    "executionInfo": {
     "elapsed": 25,
     "status": "ok",
     "timestamp": 1629716715532,
     "user": {
      "displayName": "Марат Ахмадеев",
      "photoUrl": "",
      "userId": "12759446680948529599"
     },
     "user_tz": -180
    },
    "id": "My7EtFQyw-pg",
    "outputId": "1bf6c207-2d21-4baf-97ac-2c6ce79f149a"
   },
   "outputs": [
    {
     "data": {
      "text/plain": [
       "[(0, 0.73873335),\n",
       " (50, 0.80938333),\n",
       " (100, 0.8092667),\n",
       " (150, 0.7829667),\n",
       " (200, 0.7999),\n",
       " (250, 0.80265),\n",
       " (300, 0.80113333),\n",
       " (350, 0.76393336),\n",
       " (400, 0.80551666),\n",
       " (450, 0.8116),\n",
       " (500, 0.8071333),\n",
       " (550, 0.79205),\n",
       " (600, 0.7916833),\n",
       " (650, 0.80156666),\n",
       " (700, 0.7704167),\n",
       " (750, 0.7939),\n",
       " (800, 0.76945),\n",
       " (850, 0.8113833),\n",
       " (900, 0.78728336),\n",
       " (950, 0.79925),\n",
       " (999, 0.80755)]"
      ]
     },
     "execution_count": 12,
     "metadata": {},
     "output_type": "execute_result"
    }
   ],
   "source": [
    "train_scores"
   ]
  },
  {
   "cell_type": "code",
   "execution_count": 13,
   "metadata": {
    "colab": {
     "base_uri": "https://localhost:8080/"
    },
    "executionInfo": {
     "elapsed": 20,
     "status": "ok",
     "timestamp": 1629716715535,
     "user": {
      "displayName": "Марат Ахмадеев",
      "photoUrl": "",
      "userId": "12759446680948529599"
     },
     "user_tz": -180
    },
    "id": "nMhYIpD81KYl",
    "outputId": "419c70f9-dcc0-42d5-8056-b51d83f08f44"
   },
   "outputs": [
    {
     "data": {
      "text/plain": [
       "[(0, 0.7366),\n",
       " (50, 0.7956),\n",
       " (100, 0.7961),\n",
       " (150, 0.7718),\n",
       " (200, 0.7783),\n",
       " (250, 0.7882),\n",
       " (300, 0.7843),\n",
       " (350, 0.7484),\n",
       " (400, 0.7868),\n",
       " (450, 0.7976),\n",
       " (500, 0.7892),\n",
       " (550, 0.772),\n",
       " (600, 0.7761),\n",
       " (650, 0.7868),\n",
       " (700, 0.7501),\n",
       " (750, 0.7758),\n",
       " (800, 0.7465),\n",
       " (850, 0.7905),\n",
       " (900, 0.761),\n",
       " (950, 0.7775),\n",
       " (999, 0.7877)]"
      ]
     },
     "execution_count": 13,
     "metadata": {},
     "output_type": "execute_result"
    }
   ],
   "source": [
    "test_scores"
   ]
  },
  {
   "cell_type": "markdown",
   "metadata": {},
   "source": [
    "Далее построение конволюционных моделей с \"готовыми\" слоями. В целях предотвращения 'data leakage' тренировочная выборка будет дополнительно разделена для целей обучения на тренировочную и тестовую подвыборки, а датасет fashion-mnist_test.csv будет использован в качестве валидационной для подсчета итоговой метрики accuracy. Также в целях снижения времени обучения количество эпох будет снижено до 100."
   ]
  },
  {
   "cell_type": "code",
   "execution_count": 16,
   "metadata": {
    "executionInfo": {
     "elapsed": 933,
     "status": "ok",
     "timestamp": 1629723222435,
     "user": {
      "displayName": "Марат Ахмадеев",
      "photoUrl": "",
      "userId": "12759446680948529599"
     },
     "user_tz": -180
    },
    "id": "XWnDzjrj-wTY"
   },
   "outputs": [],
   "source": [
    "from sklearn.model_selection import train_test_split\n",
    "\n",
    "Xc_train, Xc_test, yc_train, yc_test = train_test_split(X_train, y_train)\n",
    "Xc_train = Xc_train.reshape(len(Xc_train), 28, 28, 1)\n",
    "Xc_test = Xc_test.reshape(len(Xc_test), 28, 28, 1)\n",
    "X_test_eval = X_test.reshape(len(X_test), 28, 28, 1)\n",
    "\n",
    "epochs = 100"
   ]
  },
  {
   "cell_type": "markdown",
   "metadata": {},
   "source": [
    "Первая модель с небольшим количеством слоев, итоговый показатель accuracy - 0,81."
   ]
  },
  {
   "cell_type": "code",
   "execution_count": 17,
   "metadata": {
    "colab": {
     "base_uri": "https://localhost:8080/"
    },
    "executionInfo": {
     "elapsed": 3170913,
     "status": "ok",
     "timestamp": 1629726393327,
     "user": {
      "displayName": "Марат Ахмадеев",
      "photoUrl": "",
      "userId": "12759446680948529599"
     },
     "user_tz": -180
    },
    "id": "H-F1fbWz1N81",
    "outputId": "47010ff6-9ebb-485c-84f7-f5c374bd7feb"
   },
   "outputs": [
    {
     "name": "stdout",
     "output_type": "stream",
     "text": [
      "Train on 45000 samples, validate on 15000 samples\n",
      "Epoch 1/100\n",
      "44992/45000 [============================>.] - ETA: 0s - loss: 2.2345 - accuracy: 0.1871"
     ]
    },
    {
     "name": "stderr",
     "output_type": "stream",
     "text": [
      "/usr/local/lib/python3.7/dist-packages/keras/engine/training.py:2470: UserWarning: `Model.state_updates` will be removed in a future version. This property should not be used in TensorFlow 2.0, as `updates` are applied automatically.\n",
      "  warnings.warn('`Model.state_updates` will be removed in a future version. '\n"
     ]
    },
    {
     "name": "stdout",
     "output_type": "stream",
     "text": [
      "45000/45000 [==============================] - 31s 690us/sample - loss: 2.2345 - accuracy: 0.1872 - val_loss: 2.1516 - val_accuracy: 0.3263\n",
      "Epoch 2/100\n",
      "45000/45000 [==============================] - 31s 686us/sample - loss: 2.0711 - accuracy: 0.4228 - val_loss: 1.9852 - val_accuracy: 0.4737\n",
      "Epoch 3/100\n",
      "45000/45000 [==============================] - 31s 691us/sample - loss: 1.8986 - accuracy: 0.4946 - val_loss: 1.8077 - val_accuracy: 0.5197\n",
      "Epoch 4/100\n",
      "45000/45000 [==============================] - 34s 751us/sample - loss: 1.7186 - accuracy: 0.5518 - val_loss: 1.6268 - val_accuracy: 0.5833\n",
      "Epoch 5/100\n",
      "45000/45000 [==============================] - 31s 691us/sample - loss: 1.5416 - accuracy: 0.6044 - val_loss: 1.4573 - val_accuracy: 0.6179\n",
      "Epoch 6/100\n",
      "45000/45000 [==============================] - 31s 686us/sample - loss: 1.3833 - accuracy: 0.6333 - val_loss: 1.3127 - val_accuracy: 0.6429\n",
      "Epoch 7/100\n",
      "45000/45000 [==============================] - 31s 679us/sample - loss: 1.2538 - accuracy: 0.6566 - val_loss: 1.1988 - val_accuracy: 0.6578\n",
      "Epoch 8/100\n",
      "45000/45000 [==============================] - 31s 681us/sample - loss: 1.1542 - accuracy: 0.6710 - val_loss: 1.1123 - val_accuracy: 0.6711\n",
      "Epoch 9/100\n",
      "45000/45000 [==============================] - 31s 688us/sample - loss: 1.0785 - accuracy: 0.6802 - val_loss: 1.0460 - val_accuracy: 0.6822\n",
      "Epoch 10/100\n",
      "45000/45000 [==============================] - 31s 684us/sample - loss: 1.0201 - accuracy: 0.6888 - val_loss: 0.9948 - val_accuracy: 0.6871\n",
      "Epoch 11/100\n",
      "45000/45000 [==============================] - 31s 689us/sample - loss: 0.9746 - accuracy: 0.6949 - val_loss: 0.9544 - val_accuracy: 0.6913\n",
      "Epoch 12/100\n",
      "45000/45000 [==============================] - 31s 687us/sample - loss: 0.9382 - accuracy: 0.6998 - val_loss: 0.9216 - val_accuracy: 0.6967\n",
      "Epoch 13/100\n",
      "45000/45000 [==============================] - 31s 689us/sample - loss: 0.9083 - accuracy: 0.7041 - val_loss: 0.8944 - val_accuracy: 0.7011\n",
      "Epoch 14/100\n",
      "45000/45000 [==============================] - 31s 692us/sample - loss: 0.8830 - accuracy: 0.7080 - val_loss: 0.8713 - val_accuracy: 0.7055\n",
      "Epoch 15/100\n",
      "45000/45000 [==============================] - 31s 690us/sample - loss: 0.8613 - accuracy: 0.7115 - val_loss: 0.8516 - val_accuracy: 0.7094\n",
      "Epoch 16/100\n",
      "45000/45000 [==============================] - 31s 694us/sample - loss: 0.8428 - accuracy: 0.7143 - val_loss: 0.8345 - val_accuracy: 0.7136\n",
      "Epoch 17/100\n",
      "45000/45000 [==============================] - 31s 696us/sample - loss: 0.8265 - accuracy: 0.7176 - val_loss: 0.8194 - val_accuracy: 0.7165\n",
      "Epoch 18/100\n",
      "45000/45000 [==============================] - 31s 695us/sample - loss: 0.8120 - accuracy: 0.7209 - val_loss: 0.8060 - val_accuracy: 0.7189\n",
      "Epoch 19/100\n",
      "45000/45000 [==============================] - 32s 704us/sample - loss: 0.7991 - accuracy: 0.7241 - val_loss: 0.7940 - val_accuracy: 0.7202\n",
      "Epoch 20/100\n",
      "45000/45000 [==============================] - 32s 707us/sample - loss: 0.7875 - accuracy: 0.7262 - val_loss: 0.7830 - val_accuracy: 0.7229\n",
      "Epoch 21/100\n",
      "45000/45000 [==============================] - 32s 704us/sample - loss: 0.7768 - accuracy: 0.7291 - val_loss: 0.7730 - val_accuracy: 0.7252\n",
      "Epoch 22/100\n",
      "45000/45000 [==============================] - 31s 700us/sample - loss: 0.7670 - accuracy: 0.7312 - val_loss: 0.7639 - val_accuracy: 0.7270\n",
      "Epoch 23/100\n",
      "45000/45000 [==============================] - 32s 702us/sample - loss: 0.7581 - accuracy: 0.7333 - val_loss: 0.7555 - val_accuracy: 0.7292\n",
      "Epoch 24/100\n",
      "45000/45000 [==============================] - 32s 707us/sample - loss: 0.7498 - accuracy: 0.7348 - val_loss: 0.7477 - val_accuracy: 0.7303\n",
      "Epoch 25/100\n",
      "45000/45000 [==============================] - 32s 704us/sample - loss: 0.7421 - accuracy: 0.7370 - val_loss: 0.7404 - val_accuracy: 0.7325\n",
      "Epoch 26/100\n",
      "45000/45000 [==============================] - 32s 705us/sample - loss: 0.7348 - accuracy: 0.7394 - val_loss: 0.7335 - val_accuracy: 0.7342\n",
      "Epoch 27/100\n",
      "45000/45000 [==============================] - 32s 701us/sample - loss: 0.7280 - accuracy: 0.7406 - val_loss: 0.7270 - val_accuracy: 0.7362\n",
      "Epoch 28/100\n",
      "45000/45000 [==============================] - 32s 705us/sample - loss: 0.7216 - accuracy: 0.7431 - val_loss: 0.7209 - val_accuracy: 0.7383\n",
      "Epoch 29/100\n",
      "45000/45000 [==============================] - 32s 701us/sample - loss: 0.7155 - accuracy: 0.7448 - val_loss: 0.7152 - val_accuracy: 0.7402\n",
      "Epoch 30/100\n",
      "45000/45000 [==============================] - 31s 697us/sample - loss: 0.7097 - accuracy: 0.7475 - val_loss: 0.7097 - val_accuracy: 0.7417\n",
      "Epoch 31/100\n",
      "45000/45000 [==============================] - 31s 694us/sample - loss: 0.7042 - accuracy: 0.7485 - val_loss: 0.7044 - val_accuracy: 0.7435\n",
      "Epoch 32/100\n",
      "45000/45000 [==============================] - 31s 691us/sample - loss: 0.6990 - accuracy: 0.7498 - val_loss: 0.6992 - val_accuracy: 0.7458\n",
      "Epoch 33/100\n",
      "45000/45000 [==============================] - 31s 696us/sample - loss: 0.6940 - accuracy: 0.7514 - val_loss: 0.6944 - val_accuracy: 0.7474\n",
      "Epoch 34/100\n",
      "45000/45000 [==============================] - 31s 694us/sample - loss: 0.6891 - accuracy: 0.7528 - val_loss: 0.6898 - val_accuracy: 0.7484\n",
      "Epoch 35/100\n",
      "45000/45000 [==============================] - 31s 699us/sample - loss: 0.6844 - accuracy: 0.7546 - val_loss: 0.6852 - val_accuracy: 0.7495\n",
      "Epoch 36/100\n",
      "45000/45000 [==============================] - 32s 701us/sample - loss: 0.6799 - accuracy: 0.7566 - val_loss: 0.6808 - val_accuracy: 0.7499\n",
      "Epoch 37/100\n",
      "45000/45000 [==============================] - 31s 697us/sample - loss: 0.6757 - accuracy: 0.7576 - val_loss: 0.6768 - val_accuracy: 0.7511\n",
      "Epoch 38/100\n",
      "45000/45000 [==============================] - 32s 701us/sample - loss: 0.6715 - accuracy: 0.7588 - val_loss: 0.6726 - val_accuracy: 0.7527\n",
      "Epoch 39/100\n",
      "45000/45000 [==============================] - 31s 692us/sample - loss: 0.6674 - accuracy: 0.7595 - val_loss: 0.6688 - val_accuracy: 0.7540\n",
      "Epoch 40/100\n",
      "45000/45000 [==============================] - 31s 697us/sample - loss: 0.6635 - accuracy: 0.7615 - val_loss: 0.6649 - val_accuracy: 0.7550\n",
      "Epoch 41/100\n",
      "45000/45000 [==============================] - 31s 697us/sample - loss: 0.6597 - accuracy: 0.7624 - val_loss: 0.6611 - val_accuracy: 0.7565\n",
      "Epoch 42/100\n",
      "45000/45000 [==============================] - 31s 694us/sample - loss: 0.6559 - accuracy: 0.7636 - val_loss: 0.6575 - val_accuracy: 0.7576\n",
      "Epoch 43/100\n",
      "45000/45000 [==============================] - 32s 700us/sample - loss: 0.6523 - accuracy: 0.7649 - val_loss: 0.6540 - val_accuracy: 0.7582\n",
      "Epoch 44/100\n",
      "45000/45000 [==============================] - 32s 707us/sample - loss: 0.6488 - accuracy: 0.7662 - val_loss: 0.6504 - val_accuracy: 0.7601\n",
      "Epoch 45/100\n",
      "45000/45000 [==============================] - 32s 705us/sample - loss: 0.6453 - accuracy: 0.7674 - val_loss: 0.6470 - val_accuracy: 0.7607\n",
      "Epoch 46/100\n",
      "45000/45000 [==============================] - 31s 698us/sample - loss: 0.6420 - accuracy: 0.7684 - val_loss: 0.6438 - val_accuracy: 0.7626\n",
      "Epoch 47/100\n",
      "45000/45000 [==============================] - 31s 695us/sample - loss: 0.6387 - accuracy: 0.7698 - val_loss: 0.6406 - val_accuracy: 0.7633\n",
      "Epoch 48/100\n",
      "45000/45000 [==============================] - 32s 700us/sample - loss: 0.6355 - accuracy: 0.7711 - val_loss: 0.6374 - val_accuracy: 0.7646\n",
      "Epoch 49/100\n",
      "45000/45000 [==============================] - 32s 706us/sample - loss: 0.6325 - accuracy: 0.7719 - val_loss: 0.6345 - val_accuracy: 0.7659\n",
      "Epoch 50/100\n",
      "45000/45000 [==============================] - 32s 704us/sample - loss: 0.6294 - accuracy: 0.7725 - val_loss: 0.6314 - val_accuracy: 0.7673\n",
      "Epoch 51/100\n",
      "45000/45000 [==============================] - 32s 711us/sample - loss: 0.6264 - accuracy: 0.7738 - val_loss: 0.6285 - val_accuracy: 0.7681\n",
      "Epoch 52/100\n",
      "45000/45000 [==============================] - 32s 707us/sample - loss: 0.6235 - accuracy: 0.7751 - val_loss: 0.6256 - val_accuracy: 0.7683\n",
      "Epoch 53/100\n",
      "45000/45000 [==============================] - 32s 709us/sample - loss: 0.6207 - accuracy: 0.7757 - val_loss: 0.6229 - val_accuracy: 0.7703\n",
      "Epoch 54/100\n",
      "45000/45000 [==============================] - 32s 709us/sample - loss: 0.6179 - accuracy: 0.7768 - val_loss: 0.6202 - val_accuracy: 0.7714\n",
      "Epoch 55/100\n",
      "45000/45000 [==============================] - 32s 711us/sample - loss: 0.6152 - accuracy: 0.7781 - val_loss: 0.6174 - val_accuracy: 0.7715\n",
      "Epoch 56/100\n",
      "45000/45000 [==============================] - 32s 708us/sample - loss: 0.6125 - accuracy: 0.7792 - val_loss: 0.6148 - val_accuracy: 0.7722\n",
      "Epoch 57/100\n",
      "45000/45000 [==============================] - 32s 709us/sample - loss: 0.6099 - accuracy: 0.7798 - val_loss: 0.6123 - val_accuracy: 0.7736\n",
      "Epoch 58/100\n",
      "45000/45000 [==============================] - 32s 712us/sample - loss: 0.6074 - accuracy: 0.7810 - val_loss: 0.6098 - val_accuracy: 0.7733\n",
      "Epoch 59/100\n",
      "45000/45000 [==============================] - 32s 711us/sample - loss: 0.6049 - accuracy: 0.7815 - val_loss: 0.6072 - val_accuracy: 0.7754\n",
      "Epoch 60/100\n",
      "45000/45000 [==============================] - 32s 712us/sample - loss: 0.6024 - accuracy: 0.7829 - val_loss: 0.6048 - val_accuracy: 0.7759\n",
      "Epoch 61/100\n",
      "45000/45000 [==============================] - 32s 713us/sample - loss: 0.6000 - accuracy: 0.7834 - val_loss: 0.6024 - val_accuracy: 0.7773\n",
      "Epoch 62/100\n",
      "45000/45000 [==============================] - 32s 709us/sample - loss: 0.5976 - accuracy: 0.7839 - val_loss: 0.6000 - val_accuracy: 0.7778\n",
      "Epoch 63/100\n",
      "45000/45000 [==============================] - 32s 710us/sample - loss: 0.5953 - accuracy: 0.7847 - val_loss: 0.5977 - val_accuracy: 0.7789\n",
      "Epoch 64/100\n",
      "45000/45000 [==============================] - 32s 704us/sample - loss: 0.5930 - accuracy: 0.7856 - val_loss: 0.5954 - val_accuracy: 0.7796\n",
      "Epoch 65/100\n",
      "45000/45000 [==============================] - 32s 710us/sample - loss: 0.5907 - accuracy: 0.7862 - val_loss: 0.5933 - val_accuracy: 0.7805\n",
      "Epoch 66/100\n",
      "45000/45000 [==============================] - 32s 706us/sample - loss: 0.5885 - accuracy: 0.7875 - val_loss: 0.5910 - val_accuracy: 0.7820\n",
      "Epoch 67/100\n",
      "45000/45000 [==============================] - 32s 707us/sample - loss: 0.5864 - accuracy: 0.7880 - val_loss: 0.5888 - val_accuracy: 0.7817\n",
      "Epoch 68/100\n",
      "45000/45000 [==============================] - 32s 708us/sample - loss: 0.5842 - accuracy: 0.7896 - val_loss: 0.5868 - val_accuracy: 0.7827\n",
      "Epoch 69/100\n",
      "45000/45000 [==============================] - 32s 704us/sample - loss: 0.5821 - accuracy: 0.7899 - val_loss: 0.5846 - val_accuracy: 0.7831\n",
      "Epoch 70/100\n",
      "45000/45000 [==============================] - 32s 714us/sample - loss: 0.5801 - accuracy: 0.7907 - val_loss: 0.5825 - val_accuracy: 0.7847\n",
      "Epoch 71/100\n",
      "45000/45000 [==============================] - 32s 707us/sample - loss: 0.5780 - accuracy: 0.7919 - val_loss: 0.5806 - val_accuracy: 0.7873\n",
      "Epoch 72/100\n",
      "45000/45000 [==============================] - 32s 705us/sample - loss: 0.5760 - accuracy: 0.7925 - val_loss: 0.5785 - val_accuracy: 0.7877\n",
      "Epoch 73/100\n",
      "45000/45000 [==============================] - 32s 712us/sample - loss: 0.5740 - accuracy: 0.7940 - val_loss: 0.5765 - val_accuracy: 0.7863\n",
      "Epoch 74/100\n",
      "45000/45000 [==============================] - 32s 715us/sample - loss: 0.5720 - accuracy: 0.7939 - val_loss: 0.5747 - val_accuracy: 0.7888\n",
      "Epoch 75/100\n",
      "45000/45000 [==============================] - 32s 716us/sample - loss: 0.5702 - accuracy: 0.7951 - val_loss: 0.5726 - val_accuracy: 0.7883\n",
      "Epoch 76/100\n",
      "45000/45000 [==============================] - 32s 712us/sample - loss: 0.5682 - accuracy: 0.7964 - val_loss: 0.5707 - val_accuracy: 0.7895\n",
      "Epoch 77/100\n",
      "45000/45000 [==============================] - 32s 712us/sample - loss: 0.5665 - accuracy: 0.7967 - val_loss: 0.5690 - val_accuracy: 0.7898\n",
      "Epoch 78/100\n",
      "45000/45000 [==============================] - 32s 714us/sample - loss: 0.5646 - accuracy: 0.7977 - val_loss: 0.5672 - val_accuracy: 0.7907\n",
      "Epoch 79/100\n",
      "45000/45000 [==============================] - 32s 714us/sample - loss: 0.5628 - accuracy: 0.7983 - val_loss: 0.5654 - val_accuracy: 0.7913\n",
      "Epoch 80/100\n",
      "45000/45000 [==============================] - 32s 715us/sample - loss: 0.5610 - accuracy: 0.7986 - val_loss: 0.5636 - val_accuracy: 0.7920\n",
      "Epoch 81/100\n",
      "45000/45000 [==============================] - 32s 715us/sample - loss: 0.5593 - accuracy: 0.7995 - val_loss: 0.5618 - val_accuracy: 0.7923\n",
      "Epoch 82/100\n",
      "45000/45000 [==============================] - 32s 714us/sample - loss: 0.5576 - accuracy: 0.7997 - val_loss: 0.5601 - val_accuracy: 0.7941\n",
      "Epoch 83/100\n",
      "45000/45000 [==============================] - 32s 715us/sample - loss: 0.5559 - accuracy: 0.8010 - val_loss: 0.5583 - val_accuracy: 0.7933\n",
      "Epoch 84/100\n",
      "45000/45000 [==============================] - 32s 719us/sample - loss: 0.5542 - accuracy: 0.8011 - val_loss: 0.5567 - val_accuracy: 0.7945\n",
      "Epoch 85/100\n",
      "45000/45000 [==============================] - 32s 715us/sample - loss: 0.5526 - accuracy: 0.8018 - val_loss: 0.5551 - val_accuracy: 0.7947\n",
      "Epoch 86/100\n",
      "45000/45000 [==============================] - 32s 710us/sample - loss: 0.5509 - accuracy: 0.8027 - val_loss: 0.5535 - val_accuracy: 0.7953\n",
      "Epoch 87/100\n",
      "45000/45000 [==============================] - 32s 713us/sample - loss: 0.5494 - accuracy: 0.8029 - val_loss: 0.5519 - val_accuracy: 0.7960\n",
      "Epoch 88/100\n",
      "45000/45000 [==============================] - 32s 717us/sample - loss: 0.5478 - accuracy: 0.8038 - val_loss: 0.5502 - val_accuracy: 0.7968\n",
      "Epoch 89/100\n",
      "45000/45000 [==============================] - 32s 720us/sample - loss: 0.5462 - accuracy: 0.8049 - val_loss: 0.5487 - val_accuracy: 0.7968\n",
      "Epoch 90/100\n",
      "45000/45000 [==============================] - 32s 716us/sample - loss: 0.5447 - accuracy: 0.8054 - val_loss: 0.5472 - val_accuracy: 0.7971\n",
      "Epoch 91/100\n",
      "45000/45000 [==============================] - 32s 715us/sample - loss: 0.5432 - accuracy: 0.8057 - val_loss: 0.5457 - val_accuracy: 0.7984\n",
      "Epoch 92/100\n",
      "45000/45000 [==============================] - 32s 714us/sample - loss: 0.5417 - accuracy: 0.8066 - val_loss: 0.5442 - val_accuracy: 0.7994\n",
      "Epoch 93/100\n",
      "45000/45000 [==============================] - 32s 715us/sample - loss: 0.5403 - accuracy: 0.8069 - val_loss: 0.5427 - val_accuracy: 0.7991\n",
      "Epoch 94/100\n",
      "45000/45000 [==============================] - 32s 714us/sample - loss: 0.5388 - accuracy: 0.8077 - val_loss: 0.5413 - val_accuracy: 0.8012\n",
      "Epoch 95/100\n",
      "45000/45000 [==============================] - 32s 709us/sample - loss: 0.5374 - accuracy: 0.8083 - val_loss: 0.5398 - val_accuracy: 0.8007\n",
      "Epoch 96/100\n",
      "45000/45000 [==============================] - 32s 711us/sample - loss: 0.5360 - accuracy: 0.8088 - val_loss: 0.5384 - val_accuracy: 0.8019\n",
      "Epoch 97/100\n",
      "45000/45000 [==============================] - 32s 711us/sample - loss: 0.5345 - accuracy: 0.8098 - val_loss: 0.5370 - val_accuracy: 0.8017\n",
      "Epoch 98/100\n",
      "45000/45000 [==============================] - 32s 714us/sample - loss: 0.5332 - accuracy: 0.8102 - val_loss: 0.5356 - val_accuracy: 0.8027\n",
      "Epoch 99/100\n",
      "45000/45000 [==============================] - 32s 706us/sample - loss: 0.5318 - accuracy: 0.8110 - val_loss: 0.5342 - val_accuracy: 0.8037\n",
      "Epoch 100/100\n",
      "45000/45000 [==============================] - 32s 706us/sample - loss: 0.5305 - accuracy: 0.8117 - val_loss: 0.5329 - val_accuracy: 0.8043\n"
     ]
    }
   ],
   "source": [
    "model_1 = tf.keras.models.Sequential()\n",
    "\n",
    "model_1.add(tf.keras.layers.Convolution2D(32, (3,3), activation='relu', input_shape=(28,28,1)))\n",
    "model_1.add(tf.keras.layers.MaxPooling2D((2,2)))\n",
    "model_1.add(tf.keras.layers.Convolution2D(64, (3,3), activation='relu'))\n",
    "model_1.add(tf.keras.layers.MaxPooling2D((2,2)))\n",
    "model_1.add(tf.keras.layers.Flatten())\n",
    "model_1.add(tf.keras.layers.Dense(10, activation='softmax'))\n",
    "\n",
    "model_1.compile(\n",
    "                  loss='categorical_crossentropy',\n",
    "                  optimizer='adadelta',\n",
    "                  metrics=['accuracy']\n",
    "                  )\n",
    "\n",
    "_ = model_1.fit(\n",
    "    Xc_train, yc_train,\n",
    "    batch_size=batch_size,\n",
    "    epochs=epochs,\n",
    "    verbose=1,\n",
    "    validation_data=(Xc_test, yc_test)\n",
    ")"
   ]
  },
  {
   "cell_type": "code",
   "execution_count": 18,
   "metadata": {
    "colab": {
     "base_uri": "https://localhost:8080/"
    },
    "executionInfo": {
     "elapsed": 2761,
     "status": "ok",
     "timestamp": 1629726396079,
     "user": {
      "displayName": "Марат Ахмадеев",
      "photoUrl": "",
      "userId": "12759446680948529599"
     },
     "user_tz": -180
    },
    "id": "t7T3ts7pBMr8",
    "outputId": "4dfc3ef2-a69a-4146-ef9c-632130e705ac"
   },
   "outputs": [
    {
     "data": {
      "text/plain": [
       "(0.5310625603199005, 0.8091)"
      ]
     },
     "execution_count": 18,
     "metadata": {},
     "output_type": "execute_result"
    }
   ],
   "source": [
    "loss_1, accuracy_1 = model_1.evaluate(X_test_eval, y_test, verbose=0)\n",
    "loss_1, accuracy_1"
   ]
  },
  {
   "cell_type": "markdown",
   "metadata": {},
   "source": [
    "Вторая модель с увеличенным количеством слоев, итоговый показатель улучшился - 0,84."
   ]
  },
  {
   "cell_type": "code",
   "execution_count": 19,
   "metadata": {
    "colab": {
     "base_uri": "https://localhost:8080/"
    },
    "executionInfo": {
     "elapsed": 7006760,
     "status": "ok",
     "timestamp": 1629733402825,
     "user": {
      "displayName": "Марат Ахмадеев",
      "photoUrl": "",
      "userId": "12759446680948529599"
     },
     "user_tz": -180
    },
    "id": "4ycpFxI3F6Vb",
    "outputId": "6f8e2c06-0088-41c9-d6ac-b35dbdf3e5a4"
   },
   "outputs": [
    {
     "name": "stdout",
     "output_type": "stream",
     "text": [
      "Train on 45000 samples, validate on 15000 samples\n",
      "Epoch 1/100\n",
      "45000/45000 [==============================] - ETA: 0s - loss: 2.2891 - accuracy: 0.2013"
     ]
    },
    {
     "name": "stderr",
     "output_type": "stream",
     "text": [
      "/usr/local/lib/python3.7/dist-packages/keras/engine/training.py:2470: UserWarning: `Model.state_updates` will be removed in a future version. This property should not be used in TensorFlow 2.0, as `updates` are applied automatically.\n",
      "  warnings.warn('`Model.state_updates` will be removed in a future version. '\n"
     ]
    },
    {
     "name": "stdout",
     "output_type": "stream",
     "text": [
      "45000/45000 [==============================] - 69s 2ms/sample - loss: 2.2891 - accuracy: 0.2013 - val_loss: 2.2691 - val_accuracy: 0.3423\n",
      "Epoch 2/100\n",
      "45000/45000 [==============================] - 69s 2ms/sample - loss: 2.2402 - accuracy: 0.3740 - val_loss: 2.1921 - val_accuracy: 0.4795\n",
      "Epoch 3/100\n",
      "45000/45000 [==============================] - 69s 2ms/sample - loss: 2.1165 - accuracy: 0.4440 - val_loss: 1.9835 - val_accuracy: 0.5167\n",
      "Epoch 4/100\n",
      "45000/45000 [==============================] - 70s 2ms/sample - loss: 1.8339 - accuracy: 0.4900 - val_loss: 1.5960 - val_accuracy: 0.5545\n",
      "Epoch 5/100\n",
      "45000/45000 [==============================] - 71s 2ms/sample - loss: 1.4787 - accuracy: 0.5350 - val_loss: 1.2611 - val_accuracy: 0.6081\n",
      "Epoch 6/100\n",
      "45000/45000 [==============================] - 70s 2ms/sample - loss: 1.2420 - accuracy: 0.5719 - val_loss: 1.0823 - val_accuracy: 0.6398\n",
      "Epoch 7/100\n",
      "45000/45000 [==============================] - 70s 2ms/sample - loss: 1.1117 - accuracy: 0.6026 - val_loss: 0.9852 - val_accuracy: 0.6567\n",
      "Epoch 8/100\n",
      "45000/45000 [==============================] - 71s 2ms/sample - loss: 1.0378 - accuracy: 0.6251 - val_loss: 0.9225 - val_accuracy: 0.6693\n",
      "Epoch 9/100\n",
      "45000/45000 [==============================] - 71s 2ms/sample - loss: 0.9843 - accuracy: 0.6388 - val_loss: 0.8786 - val_accuracy: 0.6789\n",
      "Epoch 10/100\n",
      "45000/45000 [==============================] - 71s 2ms/sample - loss: 0.9440 - accuracy: 0.6544 - val_loss: 0.8458 - val_accuracy: 0.6875\n",
      "Epoch 11/100\n",
      "45000/45000 [==============================] - 71s 2ms/sample - loss: 0.9115 - accuracy: 0.6642 - val_loss: 0.8188 - val_accuracy: 0.6957\n",
      "Epoch 12/100\n",
      "45000/45000 [==============================] - 71s 2ms/sample - loss: 0.8802 - accuracy: 0.6739 - val_loss: 0.7956 - val_accuracy: 0.7034\n",
      "Epoch 13/100\n",
      "45000/45000 [==============================] - 71s 2ms/sample - loss: 0.8626 - accuracy: 0.6779 - val_loss: 0.7780 - val_accuracy: 0.7065\n",
      "Epoch 14/100\n",
      "45000/45000 [==============================] - 73s 2ms/sample - loss: 0.8352 - accuracy: 0.6879 - val_loss: 0.7604 - val_accuracy: 0.7126\n",
      "Epoch 15/100\n",
      "45000/45000 [==============================] - 72s 2ms/sample - loss: 0.8198 - accuracy: 0.6930 - val_loss: 0.7466 - val_accuracy: 0.7163\n",
      "Epoch 16/100\n",
      "45000/45000 [==============================] - 72s 2ms/sample - loss: 0.8066 - accuracy: 0.6958 - val_loss: 0.7330 - val_accuracy: 0.7228\n",
      "Epoch 17/100\n",
      "45000/45000 [==============================] - 72s 2ms/sample - loss: 0.7851 - accuracy: 0.7052 - val_loss: 0.7207 - val_accuracy: 0.7262\n",
      "Epoch 18/100\n",
      "45000/45000 [==============================] - 71s 2ms/sample - loss: 0.7763 - accuracy: 0.7060 - val_loss: 0.7098 - val_accuracy: 0.7289\n",
      "Epoch 19/100\n",
      "45000/45000 [==============================] - 72s 2ms/sample - loss: 0.7649 - accuracy: 0.7110 - val_loss: 0.6999 - val_accuracy: 0.7327\n",
      "Epoch 20/100\n",
      "45000/45000 [==============================] - 72s 2ms/sample - loss: 0.7535 - accuracy: 0.7136 - val_loss: 0.6907 - val_accuracy: 0.7358\n",
      "Epoch 21/100\n",
      "45000/45000 [==============================] - 70s 2ms/sample - loss: 0.7413 - accuracy: 0.7197 - val_loss: 0.6828 - val_accuracy: 0.7391\n",
      "Epoch 22/100\n",
      "45000/45000 [==============================] - 70s 2ms/sample - loss: 0.7341 - accuracy: 0.7202 - val_loss: 0.6748 - val_accuracy: 0.7415\n",
      "Epoch 23/100\n",
      "45000/45000 [==============================] - 71s 2ms/sample - loss: 0.7240 - accuracy: 0.7242 - val_loss: 0.6667 - val_accuracy: 0.7464\n",
      "Epoch 24/100\n",
      "45000/45000 [==============================] - 70s 2ms/sample - loss: 0.7155 - accuracy: 0.7278 - val_loss: 0.6591 - val_accuracy: 0.7487\n",
      "Epoch 25/100\n",
      "45000/45000 [==============================] - 72s 2ms/sample - loss: 0.7075 - accuracy: 0.7306 - val_loss: 0.6528 - val_accuracy: 0.7493\n",
      "Epoch 26/100\n",
      "45000/45000 [==============================] - 75s 2ms/sample - loss: 0.6975 - accuracy: 0.7323 - val_loss: 0.6460 - val_accuracy: 0.7520\n",
      "Epoch 27/100\n",
      "45000/45000 [==============================] - 74s 2ms/sample - loss: 0.6918 - accuracy: 0.7363 - val_loss: 0.6406 - val_accuracy: 0.7545\n",
      "Epoch 28/100\n",
      "45000/45000 [==============================] - 75s 2ms/sample - loss: 0.6824 - accuracy: 0.7402 - val_loss: 0.6348 - val_accuracy: 0.7569\n",
      "Epoch 29/100\n",
      "45000/45000 [==============================] - 76s 2ms/sample - loss: 0.6801 - accuracy: 0.7410 - val_loss: 0.6286 - val_accuracy: 0.7581\n",
      "Epoch 30/100\n",
      "45000/45000 [==============================] - 71s 2ms/sample - loss: 0.6725 - accuracy: 0.7462 - val_loss: 0.6236 - val_accuracy: 0.7606\n",
      "Epoch 31/100\n",
      "45000/45000 [==============================] - 69s 2ms/sample - loss: 0.6682 - accuracy: 0.7469 - val_loss: 0.6182 - val_accuracy: 0.7619\n",
      "Epoch 32/100\n",
      "45000/45000 [==============================] - 71s 2ms/sample - loss: 0.6641 - accuracy: 0.7478 - val_loss: 0.6128 - val_accuracy: 0.7633\n",
      "Epoch 33/100\n",
      "45000/45000 [==============================] - 70s 2ms/sample - loss: 0.6565 - accuracy: 0.7515 - val_loss: 0.6090 - val_accuracy: 0.7649\n",
      "Epoch 34/100\n",
      "45000/45000 [==============================] - 70s 2ms/sample - loss: 0.6495 - accuracy: 0.7524 - val_loss: 0.6042 - val_accuracy: 0.7674\n",
      "Epoch 35/100\n",
      "45000/45000 [==============================] - 69s 2ms/sample - loss: 0.6434 - accuracy: 0.7559 - val_loss: 0.5996 - val_accuracy: 0.7674\n",
      "Epoch 36/100\n",
      "45000/45000 [==============================] - 70s 2ms/sample - loss: 0.6390 - accuracy: 0.7586 - val_loss: 0.5961 - val_accuracy: 0.7697\n",
      "Epoch 37/100\n",
      "45000/45000 [==============================] - 70s 2ms/sample - loss: 0.6357 - accuracy: 0.7584 - val_loss: 0.5908 - val_accuracy: 0.7715\n",
      "Epoch 38/100\n",
      "45000/45000 [==============================] - 70s 2ms/sample - loss: 0.6300 - accuracy: 0.7626 - val_loss: 0.5866 - val_accuracy: 0.7733\n",
      "Epoch 39/100\n",
      "45000/45000 [==============================] - 70s 2ms/sample - loss: 0.6257 - accuracy: 0.7633 - val_loss: 0.5840 - val_accuracy: 0.7743\n",
      "Epoch 40/100\n",
      "45000/45000 [==============================] - 70s 2ms/sample - loss: 0.6216 - accuracy: 0.7658 - val_loss: 0.5795 - val_accuracy: 0.7743\n",
      "Epoch 41/100\n",
      "45000/45000 [==============================] - 70s 2ms/sample - loss: 0.6167 - accuracy: 0.7670 - val_loss: 0.5760 - val_accuracy: 0.7757\n",
      "Epoch 42/100\n",
      "45000/45000 [==============================] - 70s 2ms/sample - loss: 0.6133 - accuracy: 0.7682 - val_loss: 0.5714 - val_accuracy: 0.7783\n",
      "Epoch 43/100\n",
      "45000/45000 [==============================] - 70s 2ms/sample - loss: 0.6090 - accuracy: 0.7702 - val_loss: 0.5680 - val_accuracy: 0.7811\n",
      "Epoch 44/100\n",
      "45000/45000 [==============================] - 70s 2ms/sample - loss: 0.6062 - accuracy: 0.7712 - val_loss: 0.5648 - val_accuracy: 0.7822\n",
      "Epoch 45/100\n",
      "45000/45000 [==============================] - 70s 2ms/sample - loss: 0.6023 - accuracy: 0.7736 - val_loss: 0.5623 - val_accuracy: 0.7825\n",
      "Epoch 46/100\n",
      "45000/45000 [==============================] - 70s 2ms/sample - loss: 0.5969 - accuracy: 0.7722 - val_loss: 0.5581 - val_accuracy: 0.7847\n",
      "Epoch 47/100\n",
      "45000/45000 [==============================] - 69s 2ms/sample - loss: 0.5941 - accuracy: 0.7764 - val_loss: 0.5559 - val_accuracy: 0.7849\n",
      "Epoch 48/100\n",
      "45000/45000 [==============================] - 69s 2ms/sample - loss: 0.5899 - accuracy: 0.7779 - val_loss: 0.5523 - val_accuracy: 0.7858\n",
      "Epoch 49/100\n",
      "45000/45000 [==============================] - 68s 2ms/sample - loss: 0.5876 - accuracy: 0.7792 - val_loss: 0.5502 - val_accuracy: 0.7864\n",
      "Epoch 50/100\n",
      "45000/45000 [==============================] - 69s 2ms/sample - loss: 0.5828 - accuracy: 0.7806 - val_loss: 0.5470 - val_accuracy: 0.7877\n",
      "Epoch 51/100\n",
      "45000/45000 [==============================] - 69s 2ms/sample - loss: 0.5829 - accuracy: 0.7811 - val_loss: 0.5438 - val_accuracy: 0.7885\n",
      "Epoch 52/100\n",
      "45000/45000 [==============================] - 69s 2ms/sample - loss: 0.5768 - accuracy: 0.7800 - val_loss: 0.5419 - val_accuracy: 0.7899\n",
      "Epoch 53/100\n",
      "45000/45000 [==============================] - 69s 2ms/sample - loss: 0.5720 - accuracy: 0.7848 - val_loss: 0.5385 - val_accuracy: 0.7912\n",
      "Epoch 54/100\n",
      "45000/45000 [==============================] - 69s 2ms/sample - loss: 0.5705 - accuracy: 0.7865 - val_loss: 0.5355 - val_accuracy: 0.7931\n",
      "Epoch 55/100\n",
      "45000/45000 [==============================] - 69s 2ms/sample - loss: 0.5685 - accuracy: 0.7866 - val_loss: 0.5337 - val_accuracy: 0.7928\n",
      "Epoch 56/100\n",
      "45000/45000 [==============================] - 69s 2ms/sample - loss: 0.5665 - accuracy: 0.7874 - val_loss: 0.5309 - val_accuracy: 0.7939\n",
      "Epoch 57/100\n",
      "45000/45000 [==============================] - 69s 2ms/sample - loss: 0.5638 - accuracy: 0.7884 - val_loss: 0.5286 - val_accuracy: 0.7951\n",
      "Epoch 58/100\n",
      "45000/45000 [==============================] - 69s 2ms/sample - loss: 0.5629 - accuracy: 0.7864 - val_loss: 0.5263 - val_accuracy: 0.7955\n",
      "Epoch 59/100\n",
      "45000/45000 [==============================] - 69s 2ms/sample - loss: 0.5593 - accuracy: 0.7901 - val_loss: 0.5236 - val_accuracy: 0.7968\n",
      "Epoch 60/100\n",
      "45000/45000 [==============================] - 69s 2ms/sample - loss: 0.5558 - accuracy: 0.7920 - val_loss: 0.5213 - val_accuracy: 0.7984\n",
      "Epoch 61/100\n",
      "45000/45000 [==============================] - 69s 2ms/sample - loss: 0.5520 - accuracy: 0.7922 - val_loss: 0.5187 - val_accuracy: 0.8005\n",
      "Epoch 62/100\n",
      "45000/45000 [==============================] - 69s 2ms/sample - loss: 0.5521 - accuracy: 0.7954 - val_loss: 0.5173 - val_accuracy: 0.8012\n",
      "Epoch 63/100\n",
      "45000/45000 [==============================] - 69s 2ms/sample - loss: 0.5464 - accuracy: 0.7956 - val_loss: 0.5164 - val_accuracy: 0.8007\n",
      "Epoch 64/100\n",
      "45000/45000 [==============================] - 70s 2ms/sample - loss: 0.5455 - accuracy: 0.7952 - val_loss: 0.5129 - val_accuracy: 0.8044\n",
      "Epoch 65/100\n",
      "45000/45000 [==============================] - 70s 2ms/sample - loss: 0.5421 - accuracy: 0.7990 - val_loss: 0.5105 - val_accuracy: 0.8040\n",
      "Epoch 66/100\n",
      "45000/45000 [==============================] - 69s 2ms/sample - loss: 0.5407 - accuracy: 0.7978 - val_loss: 0.5093 - val_accuracy: 0.8055\n",
      "Epoch 67/100\n",
      "45000/45000 [==============================] - 69s 2ms/sample - loss: 0.5379 - accuracy: 0.8005 - val_loss: 0.5066 - val_accuracy: 0.8062\n",
      "Epoch 68/100\n",
      "45000/45000 [==============================] - 69s 2ms/sample - loss: 0.5382 - accuracy: 0.7966 - val_loss: 0.5043 - val_accuracy: 0.8063\n",
      "Epoch 69/100\n",
      "45000/45000 [==============================] - 69s 2ms/sample - loss: 0.5335 - accuracy: 0.8002 - val_loss: 0.5016 - val_accuracy: 0.8094\n",
      "Epoch 70/100\n",
      "45000/45000 [==============================] - 69s 2ms/sample - loss: 0.5314 - accuracy: 0.8022 - val_loss: 0.5004 - val_accuracy: 0.8100\n",
      "Epoch 71/100\n",
      "45000/45000 [==============================] - 69s 2ms/sample - loss: 0.5280 - accuracy: 0.8032 - val_loss: 0.4983 - val_accuracy: 0.8109\n",
      "Epoch 72/100\n",
      "45000/45000 [==============================] - 69s 2ms/sample - loss: 0.5264 - accuracy: 0.8028 - val_loss: 0.4968 - val_accuracy: 0.8101\n",
      "Epoch 73/100\n",
      "45000/45000 [==============================] - 69s 2ms/sample - loss: 0.5255 - accuracy: 0.8035 - val_loss: 0.4947 - val_accuracy: 0.8119\n",
      "Epoch 74/100\n",
      "45000/45000 [==============================] - 69s 2ms/sample - loss: 0.5223 - accuracy: 0.8067 - val_loss: 0.4937 - val_accuracy: 0.8127\n",
      "Epoch 75/100\n",
      "45000/45000 [==============================] - 69s 2ms/sample - loss: 0.5213 - accuracy: 0.8072 - val_loss: 0.4907 - val_accuracy: 0.8134\n",
      "Epoch 76/100\n",
      "45000/45000 [==============================] - 70s 2ms/sample - loss: 0.5198 - accuracy: 0.8069 - val_loss: 0.4884 - val_accuracy: 0.8153\n",
      "Epoch 77/100\n",
      "45000/45000 [==============================] - 70s 2ms/sample - loss: 0.5167 - accuracy: 0.8086 - val_loss: 0.4879 - val_accuracy: 0.8145\n",
      "Epoch 78/100\n",
      "45000/45000 [==============================] - 70s 2ms/sample - loss: 0.5150 - accuracy: 0.8079 - val_loss: 0.4854 - val_accuracy: 0.8157\n",
      "Epoch 79/100\n",
      "45000/45000 [==============================] - 70s 2ms/sample - loss: 0.5123 - accuracy: 0.8092 - val_loss: 0.4835 - val_accuracy: 0.8159\n",
      "Epoch 80/100\n",
      "45000/45000 [==============================] - 69s 2ms/sample - loss: 0.5130 - accuracy: 0.8094 - val_loss: 0.4818 - val_accuracy: 0.8183\n",
      "Epoch 81/100\n",
      "45000/45000 [==============================] - 69s 2ms/sample - loss: 0.5095 - accuracy: 0.8113 - val_loss: 0.4806 - val_accuracy: 0.8183\n",
      "Epoch 82/100\n",
      "45000/45000 [==============================] - 69s 2ms/sample - loss: 0.5082 - accuracy: 0.8112 - val_loss: 0.4784 - val_accuracy: 0.8194\n",
      "Epoch 83/100\n",
      "45000/45000 [==============================] - 69s 2ms/sample - loss: 0.5064 - accuracy: 0.8122 - val_loss: 0.4767 - val_accuracy: 0.8201\n",
      "Epoch 84/100\n",
      "45000/45000 [==============================] - 69s 2ms/sample - loss: 0.5034 - accuracy: 0.8150 - val_loss: 0.4754 - val_accuracy: 0.8212\n",
      "Epoch 85/100\n",
      "45000/45000 [==============================] - 69s 2ms/sample - loss: 0.4998 - accuracy: 0.8141 - val_loss: 0.4734 - val_accuracy: 0.8220\n",
      "Epoch 86/100\n",
      "45000/45000 [==============================] - 69s 2ms/sample - loss: 0.5000 - accuracy: 0.8167 - val_loss: 0.4724 - val_accuracy: 0.8209\n",
      "Epoch 87/100\n",
      "45000/45000 [==============================] - 70s 2ms/sample - loss: 0.4987 - accuracy: 0.8166 - val_loss: 0.4701 - val_accuracy: 0.8234\n",
      "Epoch 88/100\n",
      "45000/45000 [==============================] - 70s 2ms/sample - loss: 0.4937 - accuracy: 0.8187 - val_loss: 0.4698 - val_accuracy: 0.8221\n",
      "Epoch 89/100\n",
      "45000/45000 [==============================] - 71s 2ms/sample - loss: 0.4956 - accuracy: 0.8177 - val_loss: 0.4694 - val_accuracy: 0.8240\n",
      "Epoch 90/100\n",
      "45000/45000 [==============================] - 70s 2ms/sample - loss: 0.4940 - accuracy: 0.8180 - val_loss: 0.4661 - val_accuracy: 0.8257\n",
      "Epoch 91/100\n",
      "45000/45000 [==============================] - 71s 2ms/sample - loss: 0.4935 - accuracy: 0.8171 - val_loss: 0.4644 - val_accuracy: 0.8261\n",
      "Epoch 92/100\n",
      "45000/45000 [==============================] - 71s 2ms/sample - loss: 0.4902 - accuracy: 0.8206 - val_loss: 0.4636 - val_accuracy: 0.8273\n",
      "Epoch 93/100\n",
      "45000/45000 [==============================] - 70s 2ms/sample - loss: 0.4879 - accuracy: 0.8202 - val_loss: 0.4616 - val_accuracy: 0.8275\n",
      "Epoch 94/100\n",
      "45000/45000 [==============================] - 70s 2ms/sample - loss: 0.4842 - accuracy: 0.8208 - val_loss: 0.4599 - val_accuracy: 0.8287\n",
      "Epoch 95/100\n",
      "45000/45000 [==============================] - 70s 2ms/sample - loss: 0.4882 - accuracy: 0.8199 - val_loss: 0.4588 - val_accuracy: 0.8281\n",
      "Epoch 96/100\n",
      "45000/45000 [==============================] - 70s 2ms/sample - loss: 0.4826 - accuracy: 0.8224 - val_loss: 0.4572 - val_accuracy: 0.8287\n",
      "Epoch 97/100\n",
      "45000/45000 [==============================] - 69s 2ms/sample - loss: 0.4824 - accuracy: 0.8225 - val_loss: 0.4564 - val_accuracy: 0.8289\n",
      "Epoch 98/100\n",
      "45000/45000 [==============================] - 70s 2ms/sample - loss: 0.4811 - accuracy: 0.8235 - val_loss: 0.4546 - val_accuracy: 0.8297\n",
      "Epoch 99/100\n",
      "45000/45000 [==============================] - 70s 2ms/sample - loss: 0.4779 - accuracy: 0.8246 - val_loss: 0.4544 - val_accuracy: 0.8297\n",
      "Epoch 100/100\n",
      "45000/45000 [==============================] - 70s 2ms/sample - loss: 0.4745 - accuracy: 0.8266 - val_loss: 0.4521 - val_accuracy: 0.8317\n"
     ]
    }
   ],
   "source": [
    "model_2 = tf.keras.models.Sequential()\n",
    "\n",
    "model_2.add(tf.keras.layers.Convolution2D(32, (3,3), activation='relu', input_shape=(28,28,1)))\n",
    "model_2.add(tf.keras.layers.MaxPooling2D((2,2)))\n",
    "model_2.add(tf.keras.layers.Convolution2D(64, (3,3), activation='relu'))\n",
    "model_2.add(tf.keras.layers.MaxPooling2D((2,2)))\n",
    "model_2.add(tf.keras.layers.Convolution2D(128, (3,3), activation='relu'))\n",
    "model_2.add(tf.keras.layers.Convolution2D(256, (3,3), activation='relu'))\n",
    "model_2.add(tf.keras.layers.Flatten())\n",
    "model_2.add(tf.keras.layers.Dense(512, activation='relu'))\n",
    "model_2.add(tf.keras.layers.Dropout(0.2))\n",
    "model_2.add(tf.keras.layers.Dense(512, activation='relu'))\n",
    "model_2.add(tf.keras.layers.Dropout(0.2))\n",
    "model_2.add(tf.keras.layers.Dense(10, activation='softmax'))\n",
    "\n",
    "model_2.compile(\n",
    "                  loss='categorical_crossentropy',\n",
    "                  optimizer='adadelta',\n",
    "                  metrics=['accuracy']\n",
    "                  )\n",
    "\n",
    "_ = model_2.fit(\n",
    "    Xc_train, yc_train,\n",
    "    batch_size=batch_size,\n",
    "    epochs=epochs,\n",
    "    verbose=1,\n",
    "    validation_data=(Xc_test, yc_test)\n",
    ")"
   ]
  },
  {
   "cell_type": "code",
   "execution_count": 20,
   "metadata": {
    "colab": {
     "base_uri": "https://localhost:8080/"
    },
    "executionInfo": {
     "elapsed": 2630,
     "status": "ok",
     "timestamp": 1629733405438,
     "user": {
      "displayName": "Марат Ахмадеев",
      "photoUrl": "",
      "userId": "12759446680948529599"
     },
     "user_tz": -180
    },
    "id": "j2qDNMLSHoiT",
    "outputId": "c0e115df-0d88-410d-c900-72e7977d34f3"
   },
   "outputs": [
    {
     "data": {
      "text/plain": [
       "(0.44316959528923033, 0.8391)"
      ]
     },
     "execution_count": 20,
     "metadata": {},
     "output_type": "execute_result"
    }
   ],
   "source": [
    "loss_2, accuracy_2 = model_2.evaluate(X_test_eval, y_test, verbose=0)\n",
    "loss_2, accuracy_2"
   ]
  },
  {
   "cell_type": "markdown",
   "metadata": {},
   "source": [
    "Третья модель с добавлением к предыдущей слоев BatchNormalization. Итоговый результат получился наилучшим из всех построенных моделей - 0,87."
   ]
  },
  {
   "cell_type": "code",
   "execution_count": 21,
   "metadata": {
    "colab": {
     "base_uri": "https://localhost:8080/"
    },
    "executionInfo": {
     "elapsed": 6924702,
     "status": "ok",
     "timestamp": 1629740330122,
     "user": {
      "displayName": "Марат Ахмадеев",
      "photoUrl": "",
      "userId": "12759446680948529599"
     },
     "user_tz": -180
    },
    "id": "5zn0I9MbKLBb",
    "outputId": "bfd0319b-ebab-4a02-c8aa-fda3618a391d"
   },
   "outputs": [
    {
     "name": "stdout",
     "output_type": "stream",
     "text": [
      "WARNING:tensorflow:From /usr/local/lib/python3.7/dist-packages/keras/layers/normalization/batch_normalization.py:520: _colocate_with (from tensorflow.python.framework.ops) is deprecated and will be removed in a future version.\n",
      "Instructions for updating:\n",
      "Colocations handled automatically by placer.\n",
      "Train on 45000 samples, validate on 15000 samples\n",
      "Epoch 1/100\n",
      "44992/45000 [============================>.] - ETA: 0s - loss: 2.2276 - accuracy: 0.3133"
     ]
    },
    {
     "name": "stderr",
     "output_type": "stream",
     "text": [
      "/usr/local/lib/python3.7/dist-packages/keras/engine/training.py:2470: UserWarning: `Model.state_updates` will be removed in a future version. This property should not be used in TensorFlow 2.0, as `updates` are applied automatically.\n",
      "  warnings.warn('`Model.state_updates` will be removed in a future version. '\n"
     ]
    },
    {
     "name": "stdout",
     "output_type": "stream",
     "text": [
      "45000/45000 [==============================] - 69s 2ms/sample - loss: 2.2273 - accuracy: 0.3134 - val_loss: 1.2410 - val_accuracy: 0.5960\n",
      "Epoch 2/100\n",
      "45000/45000 [==============================] - 70s 2ms/sample - loss: 1.3789 - accuracy: 0.5576 - val_loss: 0.9400 - val_accuracy: 0.6864\n",
      "Epoch 3/100\n",
      "45000/45000 [==============================] - 70s 2ms/sample - loss: 1.1319 - accuracy: 0.6323 - val_loss: 0.8245 - val_accuracy: 0.7179\n",
      "Epoch 4/100\n",
      "45000/45000 [==============================] - 69s 2ms/sample - loss: 1.0244 - accuracy: 0.6650 - val_loss: 0.7536 - val_accuracy: 0.7366\n",
      "Epoch 5/100\n",
      "45000/45000 [==============================] - 69s 2ms/sample - loss: 0.9512 - accuracy: 0.6822 - val_loss: 0.7082 - val_accuracy: 0.7477\n",
      "Epoch 6/100\n",
      "45000/45000 [==============================] - 69s 2ms/sample - loss: 0.9029 - accuracy: 0.6968 - val_loss: 0.6731 - val_accuracy: 0.7605\n",
      "Epoch 7/100\n",
      "45000/45000 [==============================] - 69s 2ms/sample - loss: 0.8542 - accuracy: 0.7106 - val_loss: 0.6443 - val_accuracy: 0.7701\n",
      "Epoch 8/100\n",
      "45000/45000 [==============================] - 68s 2ms/sample - loss: 0.8236 - accuracy: 0.7204 - val_loss: 0.6224 - val_accuracy: 0.7764\n",
      "Epoch 9/100\n",
      "45000/45000 [==============================] - 69s 2ms/sample - loss: 0.7913 - accuracy: 0.7301 - val_loss: 0.6044 - val_accuracy: 0.7821\n",
      "Epoch 10/100\n",
      "45000/45000 [==============================] - 69s 2ms/sample - loss: 0.7685 - accuracy: 0.7364 - val_loss: 0.5906 - val_accuracy: 0.7870\n",
      "Epoch 11/100\n",
      "45000/45000 [==============================] - 69s 2ms/sample - loss: 0.7521 - accuracy: 0.7416 - val_loss: 0.5753 - val_accuracy: 0.7933\n",
      "Epoch 12/100\n",
      "45000/45000 [==============================] - 69s 2ms/sample - loss: 0.7333 - accuracy: 0.7463 - val_loss: 0.5639 - val_accuracy: 0.7952\n",
      "Epoch 13/100\n",
      "45000/45000 [==============================] - 69s 2ms/sample - loss: 0.7122 - accuracy: 0.7529 - val_loss: 0.5500 - val_accuracy: 0.8014\n",
      "Epoch 14/100\n",
      "45000/45000 [==============================] - 69s 2ms/sample - loss: 0.6966 - accuracy: 0.7581 - val_loss: 0.5403 - val_accuracy: 0.8043\n",
      "Epoch 15/100\n",
      "45000/45000 [==============================] - 69s 2ms/sample - loss: 0.6900 - accuracy: 0.7602 - val_loss: 0.5324 - val_accuracy: 0.8066\n",
      "Epoch 16/100\n",
      "45000/45000 [==============================] - 69s 2ms/sample - loss: 0.6713 - accuracy: 0.7666 - val_loss: 0.5233 - val_accuracy: 0.8097\n",
      "Epoch 17/100\n",
      "45000/45000 [==============================] - 70s 2ms/sample - loss: 0.6676 - accuracy: 0.7675 - val_loss: 0.5170 - val_accuracy: 0.8115\n",
      "Epoch 18/100\n",
      "45000/45000 [==============================] - 69s 2ms/sample - loss: 0.6555 - accuracy: 0.7712 - val_loss: 0.5082 - val_accuracy: 0.8159\n",
      "Epoch 19/100\n",
      "45000/45000 [==============================] - 70s 2ms/sample - loss: 0.6406 - accuracy: 0.7760 - val_loss: 0.5037 - val_accuracy: 0.8177\n",
      "Epoch 20/100\n",
      "45000/45000 [==============================] - 69s 2ms/sample - loss: 0.6377 - accuracy: 0.7786 - val_loss: 0.4959 - val_accuracy: 0.8191\n",
      "Epoch 21/100\n",
      "45000/45000 [==============================] - 69s 2ms/sample - loss: 0.6239 - accuracy: 0.7829 - val_loss: 0.4895 - val_accuracy: 0.8233\n",
      "Epoch 22/100\n",
      "45000/45000 [==============================] - 69s 2ms/sample - loss: 0.6153 - accuracy: 0.7848 - val_loss: 0.4853 - val_accuracy: 0.8252\n",
      "Epoch 23/100\n",
      "45000/45000 [==============================] - 68s 2ms/sample - loss: 0.6090 - accuracy: 0.7878 - val_loss: 0.4799 - val_accuracy: 0.8276\n",
      "Epoch 24/100\n",
      "45000/45000 [==============================] - 69s 2ms/sample - loss: 0.6066 - accuracy: 0.7874 - val_loss: 0.4738 - val_accuracy: 0.8298\n",
      "Epoch 25/100\n",
      "45000/45000 [==============================] - 69s 2ms/sample - loss: 0.5998 - accuracy: 0.7896 - val_loss: 0.4711 - val_accuracy: 0.8288\n",
      "Epoch 26/100\n",
      "45000/45000 [==============================] - 69s 2ms/sample - loss: 0.5872 - accuracy: 0.7952 - val_loss: 0.4663 - val_accuracy: 0.8305\n",
      "Epoch 27/100\n",
      "45000/45000 [==============================] - 68s 2ms/sample - loss: 0.5835 - accuracy: 0.7929 - val_loss: 0.4635 - val_accuracy: 0.8308\n",
      "Epoch 28/100\n",
      "45000/45000 [==============================] - 68s 2ms/sample - loss: 0.5737 - accuracy: 0.7991 - val_loss: 0.4590 - val_accuracy: 0.8325\n",
      "Epoch 29/100\n",
      "45000/45000 [==============================] - 69s 2ms/sample - loss: 0.5691 - accuracy: 0.7991 - val_loss: 0.4562 - val_accuracy: 0.8347\n",
      "Epoch 30/100\n",
      "45000/45000 [==============================] - 69s 2ms/sample - loss: 0.5639 - accuracy: 0.8017 - val_loss: 0.4528 - val_accuracy: 0.8359\n",
      "Epoch 31/100\n",
      "45000/45000 [==============================] - 70s 2ms/sample - loss: 0.5579 - accuracy: 0.8042 - val_loss: 0.4471 - val_accuracy: 0.8380\n",
      "Epoch 32/100\n",
      "45000/45000 [==============================] - 70s 2ms/sample - loss: 0.5554 - accuracy: 0.8064 - val_loss: 0.4457 - val_accuracy: 0.8382\n",
      "Epoch 33/100\n",
      "45000/45000 [==============================] - 69s 2ms/sample - loss: 0.5505 - accuracy: 0.8068 - val_loss: 0.4444 - val_accuracy: 0.8386\n",
      "Epoch 34/100\n",
      "45000/45000 [==============================] - 69s 2ms/sample - loss: 0.5503 - accuracy: 0.8072 - val_loss: 0.4397 - val_accuracy: 0.8405\n",
      "Epoch 35/100\n",
      "45000/45000 [==============================] - 69s 2ms/sample - loss: 0.5410 - accuracy: 0.8088 - val_loss: 0.4376 - val_accuracy: 0.8411\n",
      "Epoch 36/100\n",
      "45000/45000 [==============================] - 69s 2ms/sample - loss: 0.5395 - accuracy: 0.8093 - val_loss: 0.4354 - val_accuracy: 0.8423\n",
      "Epoch 37/100\n",
      "45000/45000 [==============================] - 69s 2ms/sample - loss: 0.5373 - accuracy: 0.8110 - val_loss: 0.4325 - val_accuracy: 0.8427\n",
      "Epoch 38/100\n",
      "45000/45000 [==============================] - 69s 2ms/sample - loss: 0.5313 - accuracy: 0.8133 - val_loss: 0.4305 - val_accuracy: 0.8441\n",
      "Epoch 39/100\n",
      "45000/45000 [==============================] - 69s 2ms/sample - loss: 0.5274 - accuracy: 0.8149 - val_loss: 0.4279 - val_accuracy: 0.8447\n",
      "Epoch 40/100\n",
      "45000/45000 [==============================] - 69s 2ms/sample - loss: 0.5246 - accuracy: 0.8169 - val_loss: 0.4253 - val_accuracy: 0.8450\n",
      "Epoch 41/100\n",
      "45000/45000 [==============================] - 69s 2ms/sample - loss: 0.5201 - accuracy: 0.8173 - val_loss: 0.4226 - val_accuracy: 0.8465\n",
      "Epoch 42/100\n",
      "45000/45000 [==============================] - 69s 2ms/sample - loss: 0.5118 - accuracy: 0.8208 - val_loss: 0.4200 - val_accuracy: 0.8478\n",
      "Epoch 43/100\n",
      "45000/45000 [==============================] - 69s 2ms/sample - loss: 0.5092 - accuracy: 0.8201 - val_loss: 0.4189 - val_accuracy: 0.8475\n",
      "Epoch 44/100\n",
      "45000/45000 [==============================] - 69s 2ms/sample - loss: 0.5031 - accuracy: 0.8226 - val_loss: 0.4169 - val_accuracy: 0.8489\n",
      "Epoch 45/100\n",
      "45000/45000 [==============================] - 69s 2ms/sample - loss: 0.5069 - accuracy: 0.8209 - val_loss: 0.4154 - val_accuracy: 0.8501\n",
      "Epoch 46/100\n",
      "45000/45000 [==============================] - 69s 2ms/sample - loss: 0.5019 - accuracy: 0.8217 - val_loss: 0.4128 - val_accuracy: 0.8507\n",
      "Epoch 47/100\n",
      "45000/45000 [==============================] - 68s 2ms/sample - loss: 0.4969 - accuracy: 0.8255 - val_loss: 0.4097 - val_accuracy: 0.8522\n",
      "Epoch 48/100\n",
      "45000/45000 [==============================] - 68s 2ms/sample - loss: 0.4977 - accuracy: 0.8248 - val_loss: 0.4079 - val_accuracy: 0.8524\n",
      "Epoch 49/100\n",
      "45000/45000 [==============================] - 69s 2ms/sample - loss: 0.4887 - accuracy: 0.8270 - val_loss: 0.4069 - val_accuracy: 0.8526\n",
      "Epoch 50/100\n",
      "45000/45000 [==============================] - 69s 2ms/sample - loss: 0.4901 - accuracy: 0.8275 - val_loss: 0.4057 - val_accuracy: 0.8531\n",
      "Epoch 51/100\n",
      "45000/45000 [==============================] - 69s 2ms/sample - loss: 0.4856 - accuracy: 0.8282 - val_loss: 0.4037 - val_accuracy: 0.8544\n",
      "Epoch 52/100\n",
      "45000/45000 [==============================] - 69s 2ms/sample - loss: 0.4783 - accuracy: 0.8314 - val_loss: 0.4041 - val_accuracy: 0.8538\n",
      "Epoch 53/100\n",
      "45000/45000 [==============================] - 70s 2ms/sample - loss: 0.4791 - accuracy: 0.8302 - val_loss: 0.4007 - val_accuracy: 0.8549\n",
      "Epoch 54/100\n",
      "45000/45000 [==============================] - 69s 2ms/sample - loss: 0.4757 - accuracy: 0.8332 - val_loss: 0.3990 - val_accuracy: 0.8565\n",
      "Epoch 55/100\n",
      "45000/45000 [==============================] - 70s 2ms/sample - loss: 0.4793 - accuracy: 0.8313 - val_loss: 0.3984 - val_accuracy: 0.8560\n",
      "Epoch 56/100\n",
      "45000/45000 [==============================] - 69s 2ms/sample - loss: 0.4707 - accuracy: 0.8348 - val_loss: 0.3965 - val_accuracy: 0.8570\n",
      "Epoch 57/100\n",
      "45000/45000 [==============================] - 69s 2ms/sample - loss: 0.4708 - accuracy: 0.8328 - val_loss: 0.3960 - val_accuracy: 0.8573\n",
      "Epoch 58/100\n",
      "45000/45000 [==============================] - 70s 2ms/sample - loss: 0.4698 - accuracy: 0.8348 - val_loss: 0.3933 - val_accuracy: 0.8574\n",
      "Epoch 59/100\n",
      "45000/45000 [==============================] - 70s 2ms/sample - loss: 0.4689 - accuracy: 0.8338 - val_loss: 0.3914 - val_accuracy: 0.8585\n",
      "Epoch 60/100\n",
      "45000/45000 [==============================] - 70s 2ms/sample - loss: 0.4649 - accuracy: 0.8352 - val_loss: 0.3916 - val_accuracy: 0.8579\n",
      "Epoch 61/100\n",
      "45000/45000 [==============================] - 70s 2ms/sample - loss: 0.4627 - accuracy: 0.8361 - val_loss: 0.3897 - val_accuracy: 0.8591\n",
      "Epoch 62/100\n",
      "45000/45000 [==============================] - 70s 2ms/sample - loss: 0.4552 - accuracy: 0.8390 - val_loss: 0.3879 - val_accuracy: 0.8587\n",
      "Epoch 63/100\n",
      "45000/45000 [==============================] - 70s 2ms/sample - loss: 0.4512 - accuracy: 0.8399 - val_loss: 0.3869 - val_accuracy: 0.8606\n",
      "Epoch 64/100\n",
      "45000/45000 [==============================] - 69s 2ms/sample - loss: 0.4569 - accuracy: 0.8376 - val_loss: 0.3858 - val_accuracy: 0.8599\n",
      "Epoch 65/100\n",
      "45000/45000 [==============================] - 70s 2ms/sample - loss: 0.4519 - accuracy: 0.8388 - val_loss: 0.3842 - val_accuracy: 0.8608\n",
      "Epoch 66/100\n",
      "45000/45000 [==============================] - 70s 2ms/sample - loss: 0.4510 - accuracy: 0.8402 - val_loss: 0.3839 - val_accuracy: 0.8605\n",
      "Epoch 67/100\n",
      "45000/45000 [==============================] - 69s 2ms/sample - loss: 0.4469 - accuracy: 0.8427 - val_loss: 0.3825 - val_accuracy: 0.8614\n",
      "Epoch 68/100\n",
      "45000/45000 [==============================] - 70s 2ms/sample - loss: 0.4423 - accuracy: 0.8440 - val_loss: 0.3818 - val_accuracy: 0.8621\n",
      "Epoch 69/100\n",
      "45000/45000 [==============================] - 70s 2ms/sample - loss: 0.4413 - accuracy: 0.8428 - val_loss: 0.3804 - val_accuracy: 0.8628\n",
      "Epoch 70/100\n",
      "45000/45000 [==============================] - 70s 2ms/sample - loss: 0.4390 - accuracy: 0.8455 - val_loss: 0.3803 - val_accuracy: 0.8619\n",
      "Epoch 71/100\n",
      "45000/45000 [==============================] - 70s 2ms/sample - loss: 0.4463 - accuracy: 0.8418 - val_loss: 0.3791 - val_accuracy: 0.8619\n",
      "Epoch 72/100\n",
      "45000/45000 [==============================] - 70s 2ms/sample - loss: 0.4379 - accuracy: 0.8452 - val_loss: 0.3785 - val_accuracy: 0.8625\n",
      "Epoch 73/100\n",
      "45000/45000 [==============================] - 69s 2ms/sample - loss: 0.4363 - accuracy: 0.8448 - val_loss: 0.3781 - val_accuracy: 0.8625\n",
      "Epoch 74/100\n",
      "45000/45000 [==============================] - 69s 2ms/sample - loss: 0.4324 - accuracy: 0.8475 - val_loss: 0.3754 - val_accuracy: 0.8637\n",
      "Epoch 75/100\n",
      "45000/45000 [==============================] - 70s 2ms/sample - loss: 0.4340 - accuracy: 0.8455 - val_loss: 0.3749 - val_accuracy: 0.8642\n",
      "Epoch 76/100\n",
      "45000/45000 [==============================] - 69s 2ms/sample - loss: 0.4279 - accuracy: 0.8467 - val_loss: 0.3743 - val_accuracy: 0.8633\n",
      "Epoch 77/100\n",
      "45000/45000 [==============================] - 70s 2ms/sample - loss: 0.4246 - accuracy: 0.8487 - val_loss: 0.3732 - val_accuracy: 0.8635\n",
      "Epoch 78/100\n",
      "45000/45000 [==============================] - 70s 2ms/sample - loss: 0.4236 - accuracy: 0.8505 - val_loss: 0.3731 - val_accuracy: 0.8639\n",
      "Epoch 79/100\n",
      "45000/45000 [==============================] - 70s 2ms/sample - loss: 0.4258 - accuracy: 0.8506 - val_loss: 0.3721 - val_accuracy: 0.8647\n",
      "Epoch 80/100\n",
      "45000/45000 [==============================] - 69s 2ms/sample - loss: 0.4264 - accuracy: 0.8504 - val_loss: 0.3703 - val_accuracy: 0.8648\n",
      "Epoch 81/100\n",
      "45000/45000 [==============================] - 70s 2ms/sample - loss: 0.4220 - accuracy: 0.8508 - val_loss: 0.3703 - val_accuracy: 0.8659\n",
      "Epoch 82/100\n",
      "45000/45000 [==============================] - 70s 2ms/sample - loss: 0.4205 - accuracy: 0.8499 - val_loss: 0.3691 - val_accuracy: 0.8657\n",
      "Epoch 83/100\n",
      "45000/45000 [==============================] - 69s 2ms/sample - loss: 0.4166 - accuracy: 0.8539 - val_loss: 0.3681 - val_accuracy: 0.8659\n",
      "Epoch 84/100\n",
      "45000/45000 [==============================] - 70s 2ms/sample - loss: 0.4153 - accuracy: 0.8536 - val_loss: 0.3671 - val_accuracy: 0.8654\n",
      "Epoch 85/100\n",
      "45000/45000 [==============================] - 70s 2ms/sample - loss: 0.4136 - accuracy: 0.8520 - val_loss: 0.3662 - val_accuracy: 0.8675\n",
      "Epoch 86/100\n",
      "45000/45000 [==============================] - 70s 2ms/sample - loss: 0.4138 - accuracy: 0.8545 - val_loss: 0.3649 - val_accuracy: 0.8671\n",
      "Epoch 87/100\n",
      "45000/45000 [==============================] - 69s 2ms/sample - loss: 0.4075 - accuracy: 0.8542 - val_loss: 0.3640 - val_accuracy: 0.8677\n",
      "Epoch 88/100\n",
      "45000/45000 [==============================] - 70s 2ms/sample - loss: 0.4118 - accuracy: 0.8534 - val_loss: 0.3629 - val_accuracy: 0.8683\n",
      "Epoch 89/100\n",
      "45000/45000 [==============================] - 70s 2ms/sample - loss: 0.4096 - accuracy: 0.8555 - val_loss: 0.3636 - val_accuracy: 0.8677\n",
      "Epoch 90/100\n",
      "45000/45000 [==============================] - 70s 2ms/sample - loss: 0.4011 - accuracy: 0.8583 - val_loss: 0.3641 - val_accuracy: 0.8669\n",
      "Epoch 91/100\n",
      "45000/45000 [==============================] - 69s 2ms/sample - loss: 0.4078 - accuracy: 0.8549 - val_loss: 0.3626 - val_accuracy: 0.8677\n",
      "Epoch 92/100\n",
      "45000/45000 [==============================] - 69s 2ms/sample - loss: 0.4088 - accuracy: 0.8556 - val_loss: 0.3609 - val_accuracy: 0.8695\n",
      "Epoch 93/100\n",
      "45000/45000 [==============================] - 69s 2ms/sample - loss: 0.4030 - accuracy: 0.8566 - val_loss: 0.3612 - val_accuracy: 0.8683\n",
      "Epoch 94/100\n",
      "45000/45000 [==============================] - 69s 2ms/sample - loss: 0.4007 - accuracy: 0.8576 - val_loss: 0.3594 - val_accuracy: 0.8685\n",
      "Epoch 95/100\n",
      "45000/45000 [==============================] - 69s 2ms/sample - loss: 0.3965 - accuracy: 0.8580 - val_loss: 0.3593 - val_accuracy: 0.8691\n",
      "Epoch 96/100\n",
      "45000/45000 [==============================] - 69s 2ms/sample - loss: 0.3979 - accuracy: 0.8579 - val_loss: 0.3586 - val_accuracy: 0.8703\n",
      "Epoch 97/100\n",
      "45000/45000 [==============================] - 69s 2ms/sample - loss: 0.3938 - accuracy: 0.8596 - val_loss: 0.3574 - val_accuracy: 0.8719\n",
      "Epoch 98/100\n",
      "45000/45000 [==============================] - 69s 2ms/sample - loss: 0.4000 - accuracy: 0.8582 - val_loss: 0.3576 - val_accuracy: 0.8713\n",
      "Epoch 99/100\n",
      "45000/45000 [==============================] - 69s 2ms/sample - loss: 0.3969 - accuracy: 0.8597 - val_loss: 0.3568 - val_accuracy: 0.8697\n",
      "Epoch 100/100\n",
      "45000/45000 [==============================] - 69s 2ms/sample - loss: 0.3908 - accuracy: 0.8610 - val_loss: 0.3572 - val_accuracy: 0.8692\n"
     ]
    }
   ],
   "source": [
    "model_3 = tf.keras.models.Sequential()\n",
    "\n",
    "model_3.add(tf.keras.layers.Convolution2D(32, (3,3), activation='relu', input_shape=(28,28,1)))\n",
    "model_3.add(tf.keras.layers.MaxPooling2D((2,2)))\n",
    "model_3.add(tf.keras.layers.Convolution2D(64, (3,3), activation='relu'))\n",
    "model_3.add(tf.keras.layers.MaxPooling2D((2,2)))\n",
    "model_3.add(tf.keras.layers.Convolution2D(128, (3,3), activation='relu'))\n",
    "model_3.add(tf.keras.layers.Convolution2D(256, (3,3), activation='relu'))\n",
    "model_3.add(tf.keras.layers.BatchNormalization())\n",
    "model_3.add(tf.keras.layers.Flatten())\n",
    "model_3.add(tf.keras.layers.Dense(512, activation='relu'))\n",
    "model_3.add(tf.keras.layers.Dropout(0.2))\n",
    "model_3.add(tf.keras.layers.BatchNormalization())\n",
    "model_3.add(tf.keras.layers.Dense(512, activation='relu'))\n",
    "model_3.add(tf.keras.layers.BatchNormalization())\n",
    "model_3.add(tf.keras.layers.Dropout(0.2))\n",
    "model_3.add(tf.keras.layers.Dense(10, activation='softmax'))\n",
    "\n",
    "model_3.compile(\n",
    "                  loss='categorical_crossentropy',\n",
    "                  optimizer='adadelta',\n",
    "                  metrics=['accuracy']\n",
    "                  )\n",
    "\n",
    "_ = model_3.fit(\n",
    "    Xc_train, yc_train,\n",
    "    batch_size=batch_size,\n",
    "    epochs=epochs,\n",
    "    verbose=1,\n",
    "    validation_data=(Xc_test, yc_test)\n",
    ")"
   ]
  },
  {
   "cell_type": "code",
   "execution_count": 22,
   "metadata": {
    "colab": {
     "base_uri": "https://localhost:8080/"
    },
    "executionInfo": {
     "elapsed": 2712,
     "status": "ok",
     "timestamp": 1629740332815,
     "user": {
      "displayName": "Марат Ахмадеев",
      "photoUrl": "",
      "userId": "12759446680948529599"
     },
     "user_tz": -180
    },
    "id": "sC9YBCLlLR6z",
    "outputId": "ad704b79-5d6e-466a-ab51-0b5fb58b4497"
   },
   "outputs": [
    {
     "data": {
      "text/plain": [
       "(0.3516203526854515, 0.8732)"
      ]
     },
     "execution_count": 22,
     "metadata": {},
     "output_type": "execute_result"
    }
   ],
   "source": [
    "loss_3, accuracy_3 = model_3.evaluate(X_test_eval, y_test, verbose=0)\n",
    "loss_3, accuracy_3"
   ]
  },
  {
   "cell_type": "code",
   "execution_count": 36,
   "metadata": {
    "colab": {
     "base_uri": "https://localhost:8080/",
     "height": 513
    },
    "executionInfo": {
     "elapsed": 749,
     "status": "ok",
     "timestamp": 1629743339958,
     "user": {
      "displayName": "Марат Ахмадеев",
      "photoUrl": "",
      "userId": "12759446680948529599"
     },
     "user_tz": -180
    },
    "id": "W-H-QUoKGOD2",
    "outputId": "bef94c69-b473-4740-e034-e63c865e60ef"
   },
   "outputs": [
    {
     "data": {
      "image/png": "[encoded data removed]",
      "text/plain": [
       "<Figure size 1080x576 with 1 Axes>"
      ]
     },
     "metadata": {
      "needs_background": "light"
     },
     "output_type": "display_data"
    }
   ],
   "source": [
    "import matplotlib.pyplot as plt\n",
    "%matplotlib inline\n",
    "\n",
    "plt.figure(figsize=(15,8))\n",
    "plt.plot([i[0] for i in train_scores], [i[1] for i in train_scores],\n",
    "         '-o', c='blue', label='Simple model with 2 hidden layers manually set/Train data',\n",
    "         alpha=0.5, markersize=3)\n",
    "\n",
    "plt.plot([i[0] for i in test_scores], [i[1] for i in test_scores],\n",
    "         '-o', c='red', label='Simple model with 2 hidden layers manually set/Test data',\n",
    "         alpha=0.5, markersize=3)\n",
    "\n",
    "plt.plot(list(range(1000)), [accuracy_1 for i in range(1000)],\n",
    "         alpha=0.5, label='CNN with couple of layers from keras module (validation score)')\n",
    "\n",
    "plt.plot(list(range(1000)), [accuracy_2 for i in range(1000)],\n",
    "         alpha=0.5, label='CNN with more of layers from keras module (validation score)')\n",
    "\n",
    "plt.plot(list(range(1000)), [accuracy_3 for i in range(1000)],\n",
    "         alpha=0.5, label='Batch normalization added (validation score)')\n",
    "\n",
    "plt.xlabel('Epochs')\n",
    "plt.ylabel('Accuracy score')\n",
    "plt.title('Accuracy scores by epochs on different types of models')\n",
    "plt.legend();"
   ]
  },
  {
   "cell_type": "markdown",
   "metadata": {},
   "source": [
    "График изменения показателя accuracy на тренировочной и тестовой выборках по мере обучения простой модели, созданной вручную. Линиями указаны итоговые валидационные показатели трех более сложных конволюционных моделей с использованием \"готовых\" слоев keras. Итоговые показатели метрики accuracy от наилучшей модели к худшей:\n",
    "1) 0,87 - конв. модель с использованием слоев BatchNormalization\n",
    "\n",
    "2) 0,84 - конв. модель с увеличенным количеством слоев\n",
    "\n",
    "3) 0,81 - конв. модель с небольшим количеством слоев\n",
    "\n",
    "4) 0,79 - простая полносвязная модель с двумя скрытыми слоями.\n",
    "\n",
    "Из первой части (модели лог. регр.) построенная вручную модель как нейросеть без скрытых слоев показала наихудшие результаты из всех 6 моделей - 0,77. \"Коробочное решение\" библиотеки sklearn с подбором оптимальных параметров через GridSearchCV разместилось на втором месте с показателем 0,86."
   ]
  },
  {
   "cell_type": "code",
   "execution_count": null,
   "metadata": {},
   "outputs": [],
   "source": []
  }
 ],
 "metadata": {
  "colab": {
   "authorship_tag": "ABX9TyMe9y1Hkn3auPwAfPjiglye",
   "name": "Untitled8.ipynb",
   "provenance": []
  },
  "kernelspec": {
   "display_name": "Python 3",
   "language": "python",
   "name": "python3"
  },
  "language_info": {
   "codemirror_mode": {
    "name": "ipython",
    "version": 3
   },
   "file_extension": ".py",
   "mimetype": "text/x-python",
   "name": "python",
   "nbconvert_exporter": "python",
   "pygments_lexer": "ipython3",
   "version": "3.8.5"
  },
  "toc": {
   "base_numbering": 1,
   "nav_menu": {},
   "number_sections": true,
   "sideBar": true,
   "skip_h1_title": false,
   "title_cell": "Table of Contents",
   "title_sidebar": "Contents",
   "toc_cell": false,
   "toc_position": {},
   "toc_section_display": true,
   "toc_window_display": false
  }
 },
 "nbformat": 4,
 "nbformat_minor": 1
}
