{
 "cells": [
  {
   "cell_type": "code",
   "execution_count": null,
   "metadata": {
    "id": "8w-uMyA4FZd9"
   },
   "outputs": [],
   "source": [
    "#установка библиотек\n",
    "# !pip install psycopg2\n",
    "# !pip install plotly"
   ]
  },
  {
   "cell_type": "code",
   "execution_count": 27,
   "metadata": {
    "executionInfo": {
     "elapsed": 688,
     "status": "ok",
     "timestamp": 1629812269256,
     "user": {
      "displayName": "Марат Ахмадеев",
      "photoUrl": "",
      "userId": "12759446680948529599"
     },
     "user_tz": -180
    },
    "id": "tg6CUoL3Fo1X"
   },
   "outputs": [],
   "source": [
    "#проверка подключения PostgreSQL \n",
    "import psycopg2\n",
    "import pandas as pd\n",
    "#Библиотека ждя визуализации\n",
    "from IPython.display import HTML\n",
    "import plotly.express as px\n",
    "import matplotlib.pyplot as plt\n",
    "%matplotlib inline\n",
    "\n",
    "#!введите свои реквизиты!\n",
    "DB_HOST = '52.157.159.24'\n",
    "DB_USER = 'student3'\n",
    "DB_USER_PASSWORD = 'student3_password'\n",
    "DB_NAME = 'sql_ex_for_student3'\n",
    "\n",
    "conn = psycopg2.connect(host=DB_HOST, user=DB_USER, password=DB_USER_PASSWORD, dbname=DB_NAME)"
   ]
  },
  {
   "cell_type": "markdown",
   "metadata": {
    "id": "EiogM3KP206M"
   },
   "source": [
    "--task10 (lesson4)\n",
    "-- Компьютерная фирма: На базе products_price_categories_with_makers по строить по каждому производителю график (X: category_price, Y: count)\n"
   ]
  },
  {
   "cell_type": "code",
   "execution_count": 2,
   "metadata": {
    "executionInfo": {
     "elapsed": 721,
     "status": "ok",
     "timestamp": 1629717545437,
     "user": {
      "displayName": "Марат Ахмадеев",
      "photoUrl": "",
      "userId": "12759446680948529599"
     },
     "user_tz": -180
    },
    "id": "ooBBauNqh3tf"
   },
   "outputs": [],
   "source": [
    "request = \"\"\"\n",
    "select * from products_price_categories_with_makers\n",
    "\"\"\"\n",
    "df = pd.read_sql_query(request, conn)"
   ]
  },
  {
   "cell_type": "code",
   "execution_count": 60,
   "metadata": {
    "colab": {
     "base_uri": "https://localhost:8080/",
     "height": 422
    },
    "executionInfo": {
     "elapsed": 1588,
     "status": "ok",
     "timestamp": 1629720740672,
     "user": {
      "displayName": "Марат Ахмадеев",
      "photoUrl": "",
      "userId": "12759446680948529599"
     },
     "user_tz": -180
    },
    "id": "K2cuNvD-v2F0",
    "outputId": "9cbd81d9-28cb-433a-fc07-7203cf61c104"
   },
   "outputs": [
    {
     "data": {
      "text/plain": [
       "<Figure size 432x288 with 0 Axes>"
      ]
     },
     "metadata": {},
     "output_type": "display_data"
    },
    {
     "data": {
      "image/png": "[encoded data removed]",
      "text/plain": [
       "<Figure size 864x432 with 6 Axes>"
      ]
     },
     "metadata": {
      "needs_background": "light"
     },
     "output_type": "display_data"
    }
   ],
   "source": [
    "plt.tight_layout()\n",
    "fig, axes = plt.subplots(2, 3, sharex=True, sharey=True)\n",
    "\n",
    "for ax, maker in zip(axes.flatten(), sorted(df.maker.unique())):\n",
    "    temp_df = df[df['maker']==maker].sort_values('category_price')\n",
    "    ax.bar(temp_df['category_price'], temp_df['count'])\n",
    "    ax.set_title('Maker {}'.format(maker))\n",
    "    if maker == 'A' or maker == 'D':\n",
    "        ax.set_ylabel('Count')\n",
    "    if maker == 'D' or maker == 'E':\n",
    "        ax.set_xlabel('Price_cat')\n",
    "\n",
    "axes.flatten()[-1].set_xlabel('Price_cat')\n",
    "fig.set_size_inches(12,6)"
   ]
  },
  {
   "cell_type": "markdown",
   "metadata": {
    "id": "Qfo5eggN9f6J"
   },
   "source": [
    "--task11 (lesson4)\n",
    "-- Компьютерная фирма: На базе products_price_categories_with_makers по строить по A & D график (X: category_price, Y: count)\n"
   ]
  },
  {
   "cell_type": "code",
   "execution_count": 67,
   "metadata": {
    "colab": {
     "base_uri": "https://localhost:8080/",
     "height": 279
    },
    "executionInfo": {
     "elapsed": 645,
     "status": "ok",
     "timestamp": 1629721315874,
     "user": {
      "displayName": "Марат Ахмадеев",
      "photoUrl": "",
      "userId": "12759446680948529599"
     },
     "user_tz": -180
    },
    "id": "_r5hUnF_0sjc",
    "outputId": "513e8013-8eac-44ff-b00d-d42603157c6b"
   },
   "outputs": [
    {
     "data": {
      "image/png": "[encoded data removed]",
      "text/plain": [
       "<Figure size 432x288 with 1 Axes>"
      ]
     },
     "metadata": {
      "needs_background": "light"
     },
     "output_type": "display_data"
    }
   ],
   "source": [
    "plt.figure()\n",
    "plt.bar(df.query(\"maker=='A'\").sort_values('category_price')['category_price'],\n",
    "        df.query(\"maker=='A'\").sort_values('category_price')['count'],\n",
    "        label='A')\n",
    "plt.bar(df.query(\"maker=='D'\").sort_values('category_price')['category_price'],\n",
    "        df.query(\"maker=='D'\").sort_values('category_price')['count'],\n",
    "        label='D')\n",
    "\n",
    "plt.xticks(list(range(3)))\n",
    "plt.legend()\n",
    "plt.xlabel('Price category')\n",
    "plt.ylabel('Counts');"
   ]
  },
  {
   "cell_type": "markdown",
   "metadata": {
    "id": "6xLVlQcfT_Kr"
   },
   "source": [
    "--task7 (lesson4)\n",
    "-- По предыдущему view (count_products_by_makers) сделать график в colab (X: maker, y: count)\n"
   ]
  },
  {
   "cell_type": "code",
   "execution_count": 72,
   "metadata": {
    "colab": {
     "base_uri": "https://localhost:8080/",
     "height": 282
    },
    "executionInfo": {
     "elapsed": 504,
     "status": "ok",
     "timestamp": 1629726525119,
     "user": {
      "displayName": "Марат Ахмадеев",
      "photoUrl": "",
      "userId": "12759446680948529599"
     },
     "user_tz": -180
    },
    "id": "U-9vuB8fQGv6",
    "outputId": "89b1372e-a73a-478b-8102-9cf1a6396cfb"
   },
   "outputs": [
    {
     "data": {
      "text/plain": [
       "<BarContainer object of 5 artists>"
      ]
     },
     "execution_count": 72,
     "metadata": {},
     "output_type": "execute_result"
    },
    {
     "data": {
      "image/png": "[encoded data removed]",
      "text/plain": [
       "<Figure size 432x288 with 1 Axes>"
      ]
     },
     "metadata": {
      "needs_background": "light"
     },
     "output_type": "display_data"
    }
   ],
   "source": [
    "request = \"\"\"\n",
    "select * from count_products_by_makers\n",
    "\"\"\"\n",
    "df = pd.read_sql_query(request, conn)\n",
    "\n",
    "plt.figure()\n",
    "plt.bar(df['maker'].sort_values(),\n",
    "        df.sort_values('maker')['count'])"
   ]
  },
  {
   "cell_type": "markdown",
   "metadata": {
    "id": "wPXjhz9FcqiE"
   },
   "source": [
    "--task6 (lesson5)\n",
    "-- Компьютерная фирма: Сделать график со средней ценой по всем товарам по каждому производителю (X: maker, Y: avg_price) на базе view all_products_050521\n"
   ]
  },
  {
   "cell_type": "code",
   "execution_count": 74,
   "metadata": {
    "colab": {
     "base_uri": "https://localhost:8080/",
     "height": 204
    },
    "executionInfo": {
     "elapsed": 334,
     "status": "ok",
     "timestamp": 1629740266290,
     "user": {
      "displayName": "Марат Ахмадеев",
      "photoUrl": "",
      "userId": "12759446680948529599"
     },
     "user_tz": -180
    },
    "id": "tYToY7WdFSdW",
    "outputId": "a7e12972-13cb-48f9-d4fd-ca50e0ea81a3"
   },
   "outputs": [
    {
     "data": {
      "text/html": [
       "<div>\n",
       "<style scoped>\n",
       "    .dataframe tbody tr th:only-of-type {\n",
       "        vertical-align: middle;\n",
       "    }\n",
       "\n",
       "    .dataframe tbody tr th {\n",
       "        vertical-align: top;\n",
       "    }\n",
       "\n",
       "    .dataframe thead th {\n",
       "        text-align: right;\n",
       "    }\n",
       "</style>\n",
       "<table border=\"1\" class=\"dataframe\">\n",
       "  <thead>\n",
       "    <tr style=\"text-align: right;\">\n",
       "      <th></th>\n",
       "      <th>maker</th>\n",
       "      <th>avg</th>\n",
       "    </tr>\n",
       "  </thead>\n",
       "  <tbody>\n",
       "    <tr>\n",
       "      <th>0</th>\n",
       "      <td>B</td>\n",
       "      <td>1025.0</td>\n",
       "    </tr>\n",
       "    <tr>\n",
       "      <th>1</th>\n",
       "      <td>C</td>\n",
       "      <td>970.0</td>\n",
       "    </tr>\n",
       "    <tr>\n",
       "      <th>2</th>\n",
       "      <td>D</td>\n",
       "      <td>335.0</td>\n",
       "    </tr>\n",
       "    <tr>\n",
       "      <th>3</th>\n",
       "      <td>E</td>\n",
       "      <td>320.0</td>\n",
       "    </tr>\n",
       "    <tr>\n",
       "      <th>4</th>\n",
       "      <td>A</td>\n",
       "      <td>1100.0</td>\n",
       "    </tr>\n",
       "  </tbody>\n",
       "</table>\n",
       "</div>"
      ],
      "text/plain": [
       "  maker     avg\n",
       "0     B  1025.0\n",
       "1     C   970.0\n",
       "2     D   335.0\n",
       "3     E   320.0\n",
       "4     A  1100.0"
      ]
     },
     "execution_count": 74,
     "metadata": {},
     "output_type": "execute_result"
    }
   ],
   "source": [
    "request = \"\"\"\n",
    "select maker, avg(price) \n",
    "from all_products_050521\n",
    "group by maker\n",
    "\"\"\"\n",
    "df = pd.read_sql_query(request, conn)\n",
    "df"
   ]
  },
  {
   "cell_type": "code",
   "execution_count": 76,
   "metadata": {
    "colab": {
     "base_uri": "https://localhost:8080/",
     "height": 282
    },
    "executionInfo": {
     "elapsed": 321,
     "status": "ok",
     "timestamp": 1629740309032,
     "user": {
      "displayName": "Марат Ахмадеев",
      "photoUrl": "",
      "userId": "12759446680948529599"
     },
     "user_tz": -180
    },
    "id": "zXo5HmhSFu4-",
    "outputId": "5b9ea52a-1852-4fb1-b9ca-34cab51c4576"
   },
   "outputs": [
    {
     "data": {
      "text/plain": [
       "[<matplotlib.lines.Line2D at 0x7f62a1b0bb10>]"
      ]
     },
     "execution_count": 76,
     "metadata": {},
     "output_type": "execute_result"
    },
    {
     "data": {
      "image/png": "[encoded data removed]",
      "text/plain": [
       "<Figure size 432x288 with 1 Axes>"
      ]
     },
     "metadata": {
      "needs_background": "light"
     },
     "output_type": "display_data"
    }
   ],
   "source": [
    "plt.figure()\n",
    "plt.plot(df['maker'].sort_values(),\n",
    "        df.sort_values('maker')['avg'])"
   ]
  },
  {
   "cell_type": "markdown",
   "metadata": {
    "id": "g5abYEcRYiD0"
   },
   "source": [
    "--task11 (lesson5)\n",
    "-- Компьютерная фирма: Построить график с со средней и максимальной ценами на базе products_with_lowest_price\n",
    "-- (X: maker, Y1: max_price, Y2: avg)price"
   ]
  },
  {
   "cell_type": "code",
   "execution_count": 2,
   "metadata": {
    "colab": {
     "base_uri": "https://localhost:8080/",
     "height": 294
    },
    "executionInfo": {
     "elapsed": 885,
     "status": "ok",
     "timestamp": 1629799085787,
     "user": {
      "displayName": "Марат Ахмадеев",
      "photoUrl": "",
      "userId": "12759446680948529599"
     },
     "user_tz": -180
    },
    "id": "62KVfiSDF1ku",
    "outputId": "a4ce1230-17fc-413c-efec-1922f3a3aee3"
   },
   "outputs": [
    {
     "data": {
      "text/plain": [
       "<matplotlib.axes._subplots.AxesSubplot at 0x7f6290181cd0>"
      ]
     },
     "execution_count": 2,
     "metadata": {},
     "output_type": "execute_result"
    },
    {
     "data": {
      "image/png": "[encoded data removed]",
      "text/plain": [
       "<Figure size 432x288 with 1 Axes>"
      ]
     },
     "metadata": {
      "needs_background": "light"
     },
     "output_type": "display_data"
    }
   ],
   "source": [
    "request = \"\"\"\n",
    "select *\n",
    "from products_with_lowest_price\n",
    "\"\"\"\n",
    "df = pd.read_sql_query(request, conn)\n",
    "df.groupby('maker').agg({'price':(max, 'mean')}).plot(kind='bar')"
   ]
  },
  {
   "cell_type": "markdown",
   "metadata": {
    "id": "y61YPFFKYl5r"
   },
   "source": [
    "\n",
    "--task3 (lesson5)\n",
    "-- Компьютерная фирма: Сделать на базе предыдущенр view график - круговую диаграмму"
   ]
  },
  {
   "cell_type": "code",
   "execution_count": 28,
   "metadata": {
    "colab": {
     "base_uri": "https://localhost:8080/",
     "height": 239
    },
    "executionInfo": {
     "elapsed": 844,
     "status": "ok",
     "timestamp": 1629812345019,
     "user": {
      "displayName": "Марат Ахмадеев",
      "photoUrl": "",
      "userId": "12759446680948529599"
     },
     "user_tz": -180
    },
    "id": "h_SkvL-6l6Ct",
    "outputId": "ee2b33ef-3d11-464c-c71e-dd83a89c89b4"
   },
   "outputs": [
    {
     "data": {
      "image/png": "[encoded data removed]",
      "text/plain": [
       "<Figure size 1440x720 with 5 Axes>"
      ]
     },
     "metadata": {},
     "output_type": "display_data"
    }
   ],
   "source": [
    "request = \"\"\"\n",
    "select *\n",
    "from distribution_by_type\n",
    "\"\"\"\n",
    "df = pd.read_sql_query(request, conn)\n",
    "\n",
    "fig, axes = plt.subplots(1, 5)\n",
    "\n",
    "for ax, maker in zip(axes.flatten(), sorted(df.maker.unique())):\n",
    "    temp_df = df[df['maker']==maker]\n",
    "    ax.pie(temp_df['total_share_percent'].values, \n",
    "         labels=temp_df['type'].values)\n",
    "    ax.set_title('Maker {}'.format(maker))\n",
    "  \n",
    "  \n",
    "fig.set_size_inches(20,10)"
   ]
  },
  {
   "cell_type": "code",
   "execution_count": null,
   "metadata": {
    "id": "hwvwLCUaXu0m"
   },
   "outputs": [],
   "source": []
  }
 ],
 "metadata": {
  "colab": {
   "collapsed_sections": [],
   "name": "lesson4.ipynb",
   "provenance": []
  },
  "kernelspec": {
   "display_name": "Python 3",
   "language": "python",
   "name": "python3"
  },
  "language_info": {
   "codemirror_mode": {
    "name": "ipython",
    "version": 3
   },
   "file_extension": ".py",
   "mimetype": "text/x-python",
   "name": "python",
   "nbconvert_exporter": "python",
   "pygments_lexer": "ipython3",
   "version": "3.8.5"
  },
  "toc": {
   "base_numbering": 1,
   "nav_menu": {},
   "number_sections": true,
   "sideBar": true,
   "skip_h1_title": false,
   "title_cell": "Table of Contents",
   "title_sidebar": "Contents",
   "toc_cell": false,
   "toc_position": {},
   "toc_section_display": true,
   "toc_window_display": false
  }
 },
 "nbformat": 4,
 "nbformat_minor": 1
}
