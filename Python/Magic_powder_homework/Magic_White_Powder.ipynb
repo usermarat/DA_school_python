{
 "cells": [
  {
   "cell_type": "code",
   "execution_count": 1,
   "metadata": {},
   "outputs": [],
   "source": [
    "%matplotlib inline\n",
    "\n",
    "import pandas as pd\n",
    "import numpy as np\n",
    "import matplotlib.pyplot as plt\n",
    "import matplotlib as mpl\n",
    "import seaborn; seaborn.set()\n",
    "from bs4 import BeautifulSoup\n",
    "import yfinance as yf"
   ]
  },
  {
   "cell_type": "markdown",
   "metadata": {},
   "source": [
    "# Задание 1.\n",
    "\n",
    "Вы - менеджер по продажам в нефтехимической компании. Вы ведете несколько ключевых клиентов, которые закупают продукты вашей компании. Ваша компания запускает новый продукт - \"Волшебный белый порошок\" (ВБП), который по своим свойствам похож на тот, что уже есть на рынке. Ваши клиенты предпочитают формульный подход к ценообразованию. Вам нужно предложить клиентам формулу расчета цены на ВБП. В зависимости от объемов, которые покупают клиенты, им может быть предложена скидка.\n",
    "\n",
    "### Дополнительные вводные:\n",
    "\n",
    "Так как продукт Б новый, возможно стоит предложить дисконт от цены Продукта А. Продукт производиться из нефти. Один из известных способов производства предполагает что из 16 баррелей нефти сделают одну тонну ВБП, а затраты на производство в районе 400 евро."
   ]
  },
  {
   "cell_type": "code",
   "execution_count": 2,
   "metadata": {},
   "outputs": [],
   "source": [
    "# Из данных есть:\n",
    "# Цены на продукт А, который уже есть на рынке Европы\n",
    "# ----- октябрь 2018 - 1600 EUR\n",
    "# ----- ноябрь 2018 - 1550 EUR\n",
    "# ----- февраль 2019 - 1600 EUR\n",
    "\n",
    "# Котировки нефти, курс eur/usd\n",
    "dbc = pd.read_excel('cur_oil.xlsx')\n",
    "\n",
    "# Затраты на производство\n",
    "PRODUCTION_COST = 400 # (EUR)\n",
    "\n",
    "# Расходы на логистику\n",
    "EU_LOGISTIC_COST_EUR = 30 # в Европу в евро\n",
    "CN_LOGISTIC_COST_USD = 130 # в Китай в долларах\n",
    "\n",
    "# * Справочная информация по клиентам(объемы, локации, комментарии) \n",
    "customers = {\n",
    "    'Monty':{\n",
    "        'location':'EU',\n",
    "        'volumes':200,\n",
    "        'comment':'moving_average'\n",
    "    },\n",
    "    \n",
    "    'Triangle':{\n",
    "        'location':'CN',\n",
    "        'volumes': 30,\n",
    "        'comment': 'monthly'\n",
    "    },\n",
    "    'Stone':{\n",
    "        'location':'EU',\n",
    "        'volumes': 150,\n",
    "        'comment': 'moving_average'\n",
    "    },\n",
    "    'Poly':{\n",
    "        'location':'EU',\n",
    "        'volumes': 70,\n",
    "        'comment': 'monthly'\n",
    "    }\n",
    "}\n",
    "# Скидки\n",
    "discounts = {'up to 100': 0.01, # 1%\n",
    "             'up to 300': 0.05, # 5%\n",
    "             '300 plus': 0.1}   #10%\n"
   ]
  },
  {
   "cell_type": "markdown",
   "metadata": {},
   "source": [
    "### Что нужно сделать?\n",
    "\n",
    "1. Проанализировать имеющиеся данные.\n",
    "2. Определить базовую формулу цены на условиях FCA (цена на заводе). То есть как бы выглядела цена на исторических данных.\n",
    "3. Отобразить на графике.\n",
    "4. Сделать расчет возможной цены по формуле для каждого из клиентов на условиях DDP (цена с доставкой). Записать все в один эксель файл, на разных листах. Каждый лист - название клиента.\n",
    "5. Предложить формулу цены каждому из клиентов на условиях DDP (цена с доставкой).\n",
    "- Создать директорию «для клиентов» и в ней сложить  файлы с расчетами.\n",
    "- Каждый клиент - отдельный файл (любой из docx, xlsx, pptx, pdf)  с именем клиента… \n",
    "\n",
    "### В результате должно быть 3 файла:\n",
    "1. Ноутбук с расчетами и графиками. \n",
    "2. Скрипт, который делает расчет цены для каждого клиента в одном файле\n",
    "2. Скрипт, который делает расчет цены для каждого клиента в отельном файле"
   ]
  },
  {
   "cell_type": "code",
   "execution_count": 3,
   "metadata": {},
   "outputs": [],
   "source": [
    "# Первичный анализ данных и определение базовой цены\n",
    "#\n",
    "# Для понимания базовой цены нашего нового продукта Б необходимо\n",
    "# определить базовую цену существующего продукта А на всем \n",
    "# анализируемом периоде, которая упрощенно будет \n",
    "# складываться из произв. издержек + маржа/наценка.\n",
    "#\n",
    "# Первое слагаемое предоставлено условиями задания, вычисляем маржу,\n",
    "# используя предоставленные исторические данные по ценам на продукт А.\n",
    "#\n",
    "# Т.к. условиями задания не уточнено, считаем, что это среднемес. цены"
   ]
  },
  {
   "cell_type": "code",
   "execution_count": 4,
   "metadata": {},
   "outputs": [
    {
     "name": "stdout",
     "output_type": "stream",
     "text": [
      "1.1267860656162534\n",
      "1.266219808955377\n",
      "1.3349355277998405\n"
     ]
    }
   ],
   "source": [
    "# Первая версия\n",
    "\n",
    "dbc = pd.read_excel('cur_oil.xlsx', index_col='Date')\n",
    "dbc.fillna(method=\"bfill\", inplace=True)\n",
    "dbc['prod_cost'] = ((dbc['OIL'] * 16) / dbc['EURUSD=X']) + 400\n",
    "\n",
    "marginA_oct2018 = 1600 / dbc['2018-10']['prod_cost'].mean()\n",
    "marginA_nov2018 = 1550 / dbc['2018-11']['prod_cost'].mean()\n",
    "marginA_feb2019 = 1600 / dbc['2019-02']['prod_cost'].mean()\n",
    "\n",
    "print(marginA_oct2018, marginA_nov2018, marginA_feb2019, sep='\\n')"
   ]
  },
  {
   "cell_type": "code",
   "execution_count": 5,
   "metadata": {},
   "outputs": [
    {
     "name": "stdout",
     "output_type": "stream",
     "text": [
      "1.1322611793153894\n",
      "1.1472407185294995\n",
      "1.3755771534845032\n"
     ]
    }
   ],
   "source": [
    "# Наценка на продукт А в периодах с разницей в 1 мес. (окт/нояб 2018)\n",
    "# существенно различаются, версия отметается. Необходим иной порядок \n",
    "# расчета производственных издержек\n",
    "#\n",
    "# Вторая версия - расчет произв. затрат с использованием скольз. средн.\n",
    "\n",
    "dbc = pd.read_excel('cur_oil.xlsx', index_col='Date')\n",
    "dbc.fillna(method=\"bfill\", inplace=True)\n",
    "\n",
    "roll = dbc.rolling(30, min_periods=1)\n",
    "dbc['EURUSD_mov_avrg'] = roll.mean()['EURUSD=X']\n",
    "dbc['OIL_mov_avrg'] = roll.mean()['OIL']\n",
    "\n",
    "dbc['prod_cost'] = ((dbc['OIL_mov_avrg'] * 16) / dbc['EURUSD_mov_avrg']) + 400\n",
    "\n",
    "marginA_oct2018 = 1600 / dbc['2018-10']['prod_cost'].mean()\n",
    "marginA_nov2018 = 1550 / dbc['2018-11']['prod_cost'].mean()\n",
    "marginA_feb2019 = 1600 / dbc['2019-02']['prod_cost'].mean()\n",
    "\n",
    "print(marginA_oct2018, marginA_nov2018, marginA_feb2019, sep='\\n')"
   ]
  },
  {
   "cell_type": "code",
   "execution_count": 6,
   "metadata": {},
   "outputs": [],
   "source": [
    "# Теперь разница не такая существенная, версию принимаем.\n",
    "# Соответственно, формула для расчета базовой цены продукта FCA\n",
    "# (ежедневный расчет в EUR):\n",
    "#\n",
    "# ((Q * OIL_avg / EUR_avg) + Expens.) * margin, \n",
    "#\n",
    "# где Q - норма расходов нефти на производство 1 т ГП, барр.\n",
    "# OIL_avg - ср. курс 1 барр. нефти за посл. 30 дней, USD/барр.\n",
    "# EUR_avg - ср. курс 1 EUR к USD за посл. 30 дней, USD\n",
    "# Expens. - величина пост. затрат, EUR\n",
    "# margin - размер наценки\n",
    "#\n",
    "# Расчет базовой цены продукта А на всем ретро-периоде (интерполяция \n",
    "# предоставленных условиями задания данных). С учетом отсутствия\n",
    "# иных вводных данных и значительно низкими/высокими крайними\n",
    "# значениями маржи (окт. 2018 - 13 %, фев. 2019 г. - 38 %), \n",
    "# экстраполяция значений будет произведена простым копированием\n",
    "# крайних значений\n",
    "\n",
    "dbc_mean = dbc.resample('M').mean()\n",
    "dbc_mean['margin_A'] = list(np.nan for i in range(len(dbc_mean)))\n",
    "dbc_mean.loc['2018-10-31', 'margin_A'] = marginA_oct2018\n",
    "dbc_mean.loc['2018-11-30', 'margin_A'] = marginA_nov2018\n",
    "dbc_mean.loc['2019-02-28', 'margin_A'] = marginA_feb2019\n",
    "\n",
    "dbc_mean['margin_A'].interpolate(method='linear', limit_direction='both', inplace=True)\n",
    "dbc['margin_A'] = list(np.nan for i in range(len(dbc)))\n",
    "\n",
    "for month, val in dbc_mean['margin_A'].to_dict().items():\n",
    "    for i in dbc.index:\n",
    "        if (i + pd.offsets.MonthEnd()) == month:\n",
    "            dbc.loc[i, 'margin_A'] = val\n",
    "\n",
    "dbc['price_A'] = dbc['prod_cost'] * dbc['margin_A']"
   ]
  },
  {
   "cell_type": "code",
   "execution_count": 7,
   "metadata": {},
   "outputs": [
    {
     "data": {
      "text/plain": [
       "<matplotlib.legend.Legend at 0x20650879a30>"
      ]
     },
     "execution_count": 7,
     "metadata": {},
     "output_type": "execute_result"
    },
    {
     "data": {
      "image/png": "[encoded data removed]",
      "text/plain": [
       "<Figure size 720x360 with 1 Axes>"
      ]
     },
     "metadata": {},
     "output_type": "display_data"
    }
   ],
   "source": [
    "# Расчет цены нового продукта Б по базовой формуле\n",
    "# с учетом дисконта 5 % от цены продукта А и \n",
    "# отображение на графике\n",
    "\n",
    "dbc['price_B'] = dbc['price_A'] * 0.95\n",
    "\n",
    "plt.figure(figsize=(10, 5))\n",
    "plt.plot(dbc['price_A'], label='Продукт А')\n",
    "plt.plot(dbc['price_B'], label='Продукт Б')\n",
    "plt.ylabel('EUR')\n",
    "plt.title(\"График изменения базовой цены продукта А и Б\")\n",
    "plt.legend()"
   ]
  },
  {
   "cell_type": "code",
   "execution_count": 8,
   "metadata": {},
   "outputs": [],
   "source": [
    "# Расчет цены DDP для каждого из клиентов (с учетом дисконта \n",
    "# 5 % от цены продукта А и расходов на логистику).\n",
    "# Запись итогов расчетов в отдельные листы эксель-файла\n",
    "\n",
    "# Выполнение из скрипта (сам скрипт записан в файл ниже)\n",
    "\n",
    "from script_ddp import ddp\n",
    "ddp(dbc, customers, EU_LOGISTIC_COST_EUR, CN_LOGISTIC_COST_USD)"
   ]
  },
  {
   "cell_type": "code",
   "execution_count": 9,
   "metadata": {},
   "outputs": [
    {
     "name": "stdout",
     "output_type": "stream",
     "text": [
      "Overwriting script_ddp.py\n"
     ]
    }
   ],
   "source": [
    "%%writefile script_ddp.py\n",
    "import pandas as pd\n",
    "import numpy as np\n",
    "\n",
    "def ddp(dbc, customers, EU, CN):\n",
    "    with pd.ExcelWriter('clients.xlsx', engine='xlsxwriter') as writer:\n",
    "        for client in customers:\n",
    "            df = dbc[['EURUSD=X', 'OIL', 'EURUSD_mov_avrg', 'OIL_mov_avrg', 'prod_cost', 'price_B']].copy()\n",
    "            if customers[client]['location'] == 'EU':\n",
    "                df['DDP'] = dbc['price_B'] + EU\n",
    "            else:\n",
    "                df['DDP'] = dbc['price_B'] + CN / dbc['EURUSD_mov_avrg']\n",
    "            df.to_excel(writer, sheet_name=str(client))"
   ]
  },
  {
   "cell_type": "code",
   "execution_count": 10,
   "metadata": {},
   "outputs": [],
   "source": [
    "# Расчет стоимости закупки для каждого клиента по вышеуказанной формуле:\n",
    "# - с учетом объемов закупок; комментарии трактуются так:\n",
    "# monthly - объем закупок данного клиента в месяц (т в мес.)\n",
    "# moving_average - средний объем закупок в день за месяц (т в день)\n",
    "# - с учетом дисконта на объем закупок; скидки за объемы закупок в мес.\n",
    "# Запись итогов расчетов в отдельные файлы в папке «для клиентов»\n",
    "\n",
    "# Выполнение из скрипта (сам скрипт записан в файл ниже)\n",
    "\n",
    "import script_total\n",
    "script_total.total(customers, discounts)"
   ]
  },
  {
   "cell_type": "code",
   "execution_count": 11,
   "metadata": {},
   "outputs": [
    {
     "name": "stdout",
     "output_type": "stream",
     "text": [
      "Overwriting script_total.py\n"
     ]
    }
   ],
   "source": [
    "%%writefile script_total.py\n",
    "import pandas as pd\n",
    "import numpy as np\n",
    "import os\n",
    "\n",
    "def total(customers, discounts):\n",
    "    if os.path.exists('для_клиентов/') == False:\n",
    "        os.mkdir('для_клиентов')\n",
    "    for client in customers:\n",
    "        df = pd.read_excel('clients.xlsx', sheet_name=client)\n",
    "        if customers[client]['comment'] == 'moving_average':\n",
    "            if (customers[client]['volumes'] * 30) <= 100:\n",
    "                discount = 1 - float(discounts['up to 100'])\n",
    "            elif (customers[client]['volumes'] * 30) > 300:\n",
    "                discount = 1 - float(discounts['300 plus'])\n",
    "            else:\n",
    "                discount = 1 - float(discounts['up to 300'])\n",
    "            df['Total'] = df['DDP'] * customers[client]['volumes'] * discount\n",
    "        else:\n",
    "            if customers[client]['volumes'] <= 100:\n",
    "                discount = 1 - float(discounts['up to 100'])\n",
    "            elif customers[client]['volumes'] > 300:\n",
    "                discount = 1 - float(discounts['300 plus'])\n",
    "            else:\n",
    "                discount = 1 - float(discounts['up to 300'])\n",
    "            df['Total'] = df['DDP'] * (customers[client]['volumes'] / 30) * discount\n",
    "        df.to_excel(f'для_клиентов/{client}.xlsx', index=False)"
   ]
  },
  {
   "cell_type": "markdown",
   "metadata": {},
   "source": [
    "# Задание 2. Продолжение"
   ]
  },
  {
   "cell_type": "markdown",
   "metadata": {},
   "source": [
    "Клиенты согласились на ваше предложение. \n",
    "Вам нужно сделать написать скрипт, с помощью которого можно автоматом рассчитывать цены для всех клиентов одновременно. \n",
    "Важный момент: данные для расчета скрипт должен подтягивать сам.\n",
    "\n",
    "В результате должно быть 3 файла\n",
    "1. Ноутбук с расчетами и графиками (чтобы данные подтягивались туда)\n",
    "2. Скрипт, который делает расчет цены для клиента (чтобы данные подтягивались туда сами)"
   ]
  },
  {
   "cell_type": "code",
   "execution_count": 12,
   "metadata": {},
   "outputs": [],
   "source": [
    "# Вызываемый скрипт является комбинацией двух предыдущих - в нем \n",
    "# производится вызов ранее записанных функций (см. ниже). \n",
    "# Все заданные условиями задания константы записаны в тело скрипта,\n",
    "# единственным передаваемым аргументом является словарь с клиентами,\n",
    "# переменные параметры которых подтягиваются в скрипт.\n",
    "# \n",
    "# Пример:\n",
    "customers = {\n",
    "    'ПРИМЕР1':{\n",
    "        'location':'EU',\n",
    "        'volumes': 20,\n",
    "        'comment':'moving_average'\n",
    "    },\n",
    "    \n",
    "    'ПРИМЕР2':{\n",
    "        'location':'CN',\n",
    "        'volumes': 1900,\n",
    "        'comment':'monthly'\n",
    "    },\n",
    "    \n",
    "    'Monty':{\n",
    "        'location':'EU',\n",
    "        'volumes':200,\n",
    "        'comment':'moving_average'\n",
    "    },\n",
    "    \n",
    "    'Triangle':{\n",
    "        'location':'CN',\n",
    "        'volumes': 30,\n",
    "        'comment': 'monthly'\n",
    "    },\n",
    "    'Stone':{\n",
    "        'location':'EU',\n",
    "        'volumes': 150,\n",
    "        'comment': 'moving_average'\n",
    "    },\n",
    "    'Poly':{\n",
    "        'location':'EU',\n",
    "        'volumes': 70,\n",
    "        'comment': 'monthly'\n",
    "    }\n",
    "}\n",
    "\n",
    "from script_auto import auto\n",
    "\n",
    "auto(customers)\n"
   ]
  },
  {
   "cell_type": "code",
   "execution_count": 13,
   "metadata": {},
   "outputs": [
    {
     "name": "stdout",
     "output_type": "stream",
     "text": [
      "Overwriting script_auto.py\n"
     ]
    }
   ],
   "source": [
    "%%writefile script_auto.py\n",
    "import pandas as pd\n",
    "import numpy as np\n",
    "import os\n",
    "from script_ddp import ddp\n",
    "from script_total import total\n",
    "\n",
    "def auto(customers):\n",
    "    dbc = pd.read_excel('cur_oil.xlsx', index_col='Date')\n",
    "    dbc.fillna(method=\"bfill\", inplace=True)\n",
    "\n",
    "    roll = dbc.rolling(30, min_periods=1)\n",
    "    dbc['EURUSD_mov_avrg'] = roll.mean()['EURUSD=X']\n",
    "    dbc['OIL_mov_avrg'] = roll.mean()['OIL']\n",
    "\n",
    "    dbc['prod_cost'] = ((dbc['OIL_mov_avrg'] * 16) / dbc['EURUSD_mov_avrg']) + 400\n",
    "\n",
    "    marginA_oct2018 = 1600 / dbc['2018-10']['prod_cost'].mean()\n",
    "    marginA_nov2018 = 1550 / dbc['2018-11']['prod_cost'].mean()\n",
    "    marginA_feb2019 = 1600 / dbc['2019-02']['prod_cost'].mean()\n",
    "    \n",
    "    dbc_mean = dbc.resample('M').mean()\n",
    "    dbc_mean['margin_A'] = list(np.nan for i in range(len(dbc_mean)))\n",
    "    dbc_mean.loc['2018-10-31', 'margin_A'] = marginA_oct2018\n",
    "    dbc_mean.loc['2018-11-30', 'margin_A'] = marginA_nov2018\n",
    "    dbc_mean.loc['2019-02-28', 'margin_A'] = marginA_feb2019\n",
    "\n",
    "    dbc_mean['margin_A'].interpolate(method='linear', limit_direction='both', inplace=True)\n",
    "    dbc['margin_A'] = list(np.nan for i in range(len(dbc)))\n",
    "\n",
    "    for month, val in dbc_mean['margin_A'].to_dict().items():\n",
    "        for i in dbc.index:\n",
    "            if (i + pd.offsets.MonthEnd()) == month:\n",
    "                dbc.loc[i, 'margin_A'] = val\n",
    "\n",
    "    dbc['price_B'] = dbc['prod_cost'] * dbc['margin_A'] * 0.95\n",
    "    \n",
    "    EU_LOGISTIC_COST_EUR = 30 \n",
    "    CN_LOGISTIC_COST_USD = 130\n",
    "    discounts = {'up to 100': 0.01, \n",
    "                 'up to 300': 0.05, \n",
    "                 '300 plus': 0.1}\n",
    "    \n",
    "    ddp(dbc, customers, EU_LOGISTIC_COST_EUR, CN_LOGISTIC_COST_USD)\n",
    "    total(customers, discounts)\n",
    "    "
   ]
  },
  {
   "cell_type": "markdown",
   "metadata": {},
   "source": [
    "# Задание 3. Back to Russia\n",
    "\n",
    "К вам пришел новый клиент из России. Который использует продукт А и готов регулярно закупать ВБП для того, чтобы не быть привязанным к одному поставщику. Клиент готов забирать ВБП с завода самостоятельно.\n",
    "1. На основе тех данных, которые уже есть предложите цену новому клиенту. \n",
    "2. Подготовьте скрипт, который будет использовать курс публикуемый на <a href='http://www.cbr.ru/currency_base/dynamics/'> сайте ЦБ РФ</a>.\n"
   ]
  },
  {
   "cell_type": "code",
   "execution_count": 14,
   "metadata": {},
   "outputs": [
    {
     "data": {
      "text/html": [
       "<div>\n",
       "<style scoped>\n",
       "    .dataframe tbody tr th:only-of-type {\n",
       "        vertical-align: middle;\n",
       "    }\n",
       "\n",
       "    .dataframe tbody tr th {\n",
       "        vertical-align: top;\n",
       "    }\n",
       "\n",
       "    .dataframe thead th {\n",
       "        text-align: right;\n",
       "    }\n",
       "</style>\n",
       "<table border=\"1\" class=\"dataframe\">\n",
       "  <thead>\n",
       "    <tr style=\"text-align: right;\">\n",
       "      <th></th>\n",
       "      <th>OIL</th>\n",
       "      <th>EURUSD=X</th>\n",
       "      <th>EURRUB</th>\n",
       "      <th>EURUSD_mov_avrg</th>\n",
       "      <th>OIL_mov_avrg</th>\n",
       "      <th>EURRUB_mov_avrg</th>\n",
       "      <th>prod_cost</th>\n",
       "      <th>price_B(RUB)</th>\n",
       "    </tr>\n",
       "  </thead>\n",
       "  <tbody>\n",
       "    <tr>\n",
       "      <th>2021-07-30</th>\n",
       "      <td>76.330002</td>\n",
       "      <td>1.189300</td>\n",
       "      <td>86.8624</td>\n",
       "      <td>1.189300</td>\n",
       "      <td>76.330002</td>\n",
       "      <td>86.862400</td>\n",
       "      <td>1426.890048</td>\n",
       "      <td>162489.396426</td>\n",
       "    </tr>\n",
       "    <tr>\n",
       "      <th>2021-07-29</th>\n",
       "      <td>76.050003</td>\n",
       "      <td>1.184596</td>\n",
       "      <td>86.9173</td>\n",
       "      <td>1.186948</td>\n",
       "      <td>76.190002</td>\n",
       "      <td>86.889850</td>\n",
       "      <td>1427.037751</td>\n",
       "      <td>162557.571069</td>\n",
       "    </tr>\n",
       "    <tr>\n",
       "      <th>2021-07-28</th>\n",
       "      <td>74.739998</td>\n",
       "      <td>1.182313</td>\n",
       "      <td>86.9919</td>\n",
       "      <td>1.185403</td>\n",
       "      <td>75.706668</td>\n",
       "      <td>86.923867</td>\n",
       "      <td>1421.852533</td>\n",
       "      <td>162030.318062</td>\n",
       "    </tr>\n",
       "    <tr>\n",
       "      <th>2021-07-27</th>\n",
       "      <td>74.480003</td>\n",
       "      <td>1.180777</td>\n",
       "      <td>87.3171</td>\n",
       "      <td>1.184246</td>\n",
       "      <td>75.400002</td>\n",
       "      <td>87.022175</td>\n",
       "      <td>1418.707100</td>\n",
       "      <td>161854.719528</td>\n",
       "    </tr>\n",
       "    <tr>\n",
       "      <th>2021-07-23</th>\n",
       "      <td>74.099998</td>\n",
       "      <td>1.177274</td>\n",
       "      <td>86.9227</td>\n",
       "      <td>1.182852</td>\n",
       "      <td>75.140001</td>\n",
       "      <td>87.002280</td>\n",
       "      <td>1416.391125</td>\n",
       "      <td>161553.556266</td>\n",
       "    </tr>\n",
       "  </tbody>\n",
       "</table>\n",
       "</div>"
      ],
      "text/plain": [
       "                  OIL  EURUSD=X   EURRUB  EURUSD_mov_avrg  OIL_mov_avrg  \\\n",
       "2021-07-30  76.330002  1.189300  86.8624         1.189300     76.330002   \n",
       "2021-07-29  76.050003  1.184596  86.9173         1.186948     76.190002   \n",
       "2021-07-28  74.739998  1.182313  86.9919         1.185403     75.706668   \n",
       "2021-07-27  74.480003  1.180777  87.3171         1.184246     75.400002   \n",
       "2021-07-23  74.099998  1.177274  86.9227         1.182852     75.140001   \n",
       "\n",
       "            EURRUB_mov_avrg    prod_cost   price_B(RUB)  \n",
       "2021-07-30        86.862400  1426.890048  162489.396426  \n",
       "2021-07-29        86.889850  1427.037751  162557.571069  \n",
       "2021-07-28        86.923867  1421.852533  162030.318062  \n",
       "2021-07-27        87.022175  1418.707100  161854.719528  \n",
       "2021-07-23        87.002280  1416.391125  161553.556266  "
      ]
     },
     "execution_count": 14,
     "metadata": {},
     "output_type": "execute_result"
    }
   ],
   "source": [
    "# Расчет цены DDP (с завода) для клиента из России.\n",
    "# Скрипт тянет курс валют EUR к рублю с сайта ЦБ РФ, \n",
    "# а также котировки нефти и курс EUR/USD с ресурса Yahoo! Finance.\n",
    "# Вывод - результирующая таблица и ее запись в файл (включает данные\n",
    "# по последнюю доступную дату с указанных ресурсов)\n",
    "# Итоговая цена указана в рублях по среднему курсу ЦБ РФ за посл. 30 дн.\n",
    "# \n",
    "# Входной параметр скрипта - количество дней ретро-периода.\n",
    "\n",
    "from script_rus import rus\n",
    "rus(days=100).head()"
   ]
  },
  {
   "cell_type": "code",
   "execution_count": 15,
   "metadata": {},
   "outputs": [
    {
     "name": "stdout",
     "output_type": "stream",
     "text": [
      "Overwriting script_rus.py\n"
     ]
    }
   ],
   "source": [
    "%%writefile script_rus.py\n",
    "import pandas as pd\n",
    "import numpy as np\n",
    "import os\n",
    "from datetime import date, timedelta\n",
    "import requests\n",
    "from bs4 import BeautifulSoup\n",
    "import yfinance as yf\n",
    "\n",
    "def rus(days):\n",
    "    date_range = [(date.today() - timedelta(days)).strftime('%d.%m.%Y'), date.today().strftime('%d.%m.%Y')]\n",
    "    url = f'http://www.cbr.ru/currency_base/dynamics/?UniDbQuery.Posted=True&UniDbQuery.so=1&UniDbQuery.mode=1&UniDbQuery.date_req1=&UniDbQuery.date_req2=&UniDbQuery.VAL_NM_RQ=R01239&UniDbQuery.From={date_range[0]}&UniDbQuery.To={date_range[1]}'\n",
    "    res = requests.get(url)\n",
    "    soup = BeautifulSoup(res.text, 'lxml')\n",
    "    dates = list(map(lambda x: pd.to_datetime(x, format='%d.%m.%Y'), [tag.text for tag in soup.find_all(\"td\")][1::3]))\n",
    "    course = list(map(lambda x: float('.'.join(x.split(','))), [tag.text for tag in soup.find_all(\"td\")][3::3]))\n",
    "    eur = pd.DataFrame({'EURRUB': course}, index=dates)\n",
    "    \n",
    "    date_range = [(date.today() - timedelta(days)).strftime('%Y-%m-%d'), date.today().strftime('%Y-%m-%d')]\n",
    "    oil = yf.Ticker(\"BZ=F\").history(start=date_range[0], end=date_range[1])['Close'].rename('OIL')\n",
    "    usd = yf.Ticker(\"EURUSD=X\").history(start=date_range[0], end=date_range[1])['Close'].rename('EURUSD=X')\n",
    "    \n",
    "    dbc = pd.concat([oil, usd, eur], axis=1, join='inner').sort_index(ascending=False)\n",
    "    \n",
    "    roll = dbc.rolling(30, min_periods=1)\n",
    "    dbc['EURUSD_mov_avrg'] = roll.mean()['EURUSD=X']\n",
    "    dbc['OIL_mov_avrg'] = roll.mean()['OIL']\n",
    "    dbc['EURRUB_mov_avrg'] = roll.mean()['EURRUB']\n",
    "\n",
    "    dbc['prod_cost'] = ((dbc['OIL_mov_avrg'] * 16) / dbc['EURUSD_mov_avrg']) + 400\n",
    "\n",
    "    dbc['price_B(RUB)'] = dbc['prod_cost'] * 1.38 * 0.95 * dbc['EURRUB_mov_avrg']\n",
    "    dbc.to_excel('rus_client.xlsx')\n",
    "    \n",
    "    return dbc\n",
    "    "
   ]
  },
  {
   "cell_type": "markdown",
   "metadata": {},
   "source": [
    "# Задание 4. Check it"
   ]
  },
  {
   "cell_type": "markdown",
   "metadata": {},
   "source": [
    "* Подумайте, как можно проверить корректность работы алгоритма? \n",
    "* Какие возможны ошибки?\n",
    "* Придумайте тесты для проверки возможных ошибок алгоритма\n",
    "* Интергрируйте их в свои скрипты в виде исключений\n"
   ]
  },
  {
   "cell_type": "code",
   "execution_count": 20,
   "metadata": {},
   "outputs": [
    {
     "name": "stdout",
     "output_type": "stream",
     "text": [
      "Количество дней ретро-периода указано некорректно, укажите целое число без кавычек.\n",
      "Ошибка Интернет-подключения, проверьте связь.\n"
     ]
    }
   ],
   "source": [
    "# В скрипт интегрирован отлов двух ошибок:\n",
    "# - отсутствие Интернет-соединения\n",
    "# - некорректный ввод параметра days\n",
    "from script_rus_except import rus\n",
    "rus(days='100')\n",
    "rus(days=100)"
   ]
  },
  {
   "cell_type": "code",
   "execution_count": 17,
   "metadata": {},
   "outputs": [
    {
     "name": "stdout",
     "output_type": "stream",
     "text": [
      "Overwriting script_rus_except.py\n"
     ]
    }
   ],
   "source": [
    "%%writefile script_rus_except.py\n",
    "import pandas as pd\n",
    "import numpy as np\n",
    "import os\n",
    "from datetime import date, timedelta\n",
    "import requests\n",
    "from bs4 import BeautifulSoup\n",
    "import yfinance as yf\n",
    "\n",
    "def rus(days):\n",
    "    try:\n",
    "        date_range = [(date.today() - timedelta(days)).strftime('%d.%m.%Y'), date.today().strftime('%d.%m.%Y')]\n",
    "    except TypeError:\n",
    "        print('Количество дней ретро-периода указано некорректно, укажите целое число без кавычек.')\n",
    "    else:\n",
    "        url = f'http://www.cbr.ru/currency_base/dynamics/?UniDbQuery.Posted=True&UniDbQuery.so=1&UniDbQuery.mode=1&UniDbQuery.date_req1=&UniDbQuery.date_req2=&UniDbQuery.VAL_NM_RQ=R01239&UniDbQuery.From={date_range[0]}&UniDbQuery.To={date_range[1]}'\n",
    "    \n",
    "        try:\n",
    "            res = requests.get(url)\n",
    "        except:\n",
    "            print('Ошибка Интернет-подключения, проверьте связь.')\n",
    "        else:\n",
    "            soup = BeautifulSoup(res.text, 'lxml')\n",
    "            dates = list(map(lambda x: pd.to_datetime(x, format='%d.%m.%Y'), [tag.text for tag in soup.find_all(\"td\")][1::3]))\n",
    "            course = list(map(lambda x: float('.'.join(x.split(','))), [tag.text for tag in soup.find_all(\"td\")][3::3]))\n",
    "            eur = pd.DataFrame({'EURRUB': course}, index=dates)\n",
    "\n",
    "            date_range = [(date.today() - timedelta(days)).strftime('%Y-%m-%d'), date.today().strftime('%Y-%m-%d')]\n",
    "            oil = yf.Ticker(\"BZ=F\").history(start=date_range[0], end=date_range[1])['Close'].rename('OIL')\n",
    "            usd = yf.Ticker(\"EURUSD=X\").history(start=date_range[0], end=date_range[1])['Close'].rename('EURUSD=X')\n",
    "\n",
    "            dbc = pd.concat([oil, usd, eur], axis=1, join='inner').sort_index(ascending=False)\n",
    "\n",
    "            roll = dbc.rolling(30, min_periods=1)\n",
    "            dbc['EURUSD_mov_avrg'] = roll.mean()['EURUSD=X']\n",
    "            dbc['OIL_mov_avrg'] = roll.mean()['OIL']\n",
    "            dbc['EURRUB_mov_avrg'] = roll.mean()['EURRUB']\n",
    "\n",
    "            dbc['prod_cost'] = ((dbc['OIL_mov_avrg'] * 16) / dbc['EURUSD_mov_avrg']) + 400\n",
    "\n",
    "            dbc['price_B(RUB)'] = dbc['prod_cost'] * 1.38 * 0.95 * dbc['EURRUB_mov_avrg']\n",
    "            dbc.to_excel('rus_client.xlsx')\n",
    "\n",
    "            return dbc"
   ]
  },
  {
   "cell_type": "markdown",
   "metadata": {},
   "source": [
    "# Задание 5. Поделись с ближним"
   ]
  },
  {
   "cell_type": "markdown",
   "metadata": {},
   "source": [
    "Вы решили пойти в отпуск на время вашего отсутствия вас будет заменять коллега. Он будет заниматься рассчетом цен для клиентов. Чтобы ему было проще вам нужно завернуть ваши скрипты в модуль, который будет запускать у себя коллега."
   ]
  },
  {
   "cell_type": "markdown",
   "metadata": {},
   "source": [
    "* Создайте модуль, который можно запускать в ноутбуке подкладывая в ту же директорию\n",
    "* Хорошенько задокументируйте ВСЁ, но помните о PEP8"
   ]
  },
  {
   "cell_type": "code",
   "execution_count": 18,
   "metadata": {},
   "outputs": [],
   "source": [
    "# В модуль записаны 2 функции, записывающие:\n",
    "# - всех клиентов в один файл - каждый на отдельном листе\n",
    "# - всех клиентов в отдельные файлы в папку 'для_клиентов'\n",
    "#\n",
    "# Входные параметры:\n",
    "# - словарь клиенты, установленного заданием формата\n",
    "# - количестов дней ретро-периода (значения подтягиваются из Интернета)\n",
    "#\n",
    "# Важно: вторая функция тянет данные из файла с клиентами \n",
    "# (имена текущих клиентов, данные курсов по датам расчетов)\n",
    "\n",
    "import module_dbc\n",
    "\n",
    "customers = {\n",
    "    'Вася В.':{\n",
    "        'location':'RUS',\n",
    "        'volumes': 250,\n",
    "        'comment':'moving_average'\n",
    "    },\n",
    "    \n",
    "    'Леонид Я.':{\n",
    "        'location':'RUS',\n",
    "        'volumes': 2300,\n",
    "        'comment':'monthly'\n",
    "    },\n",
    "    \n",
    "    'Monty':{\n",
    "        'location':'EU',\n",
    "        'volumes': 100,\n",
    "        'comment':'moving_average'\n",
    "    },\n",
    "    \n",
    "    'Triangle':{\n",
    "        'location':'CN',\n",
    "        'volumes': 3050,\n",
    "        'comment': 'monthly'\n",
    "    },\n",
    "    'Stone':{\n",
    "        'location':'EU',\n",
    "        'volumes': 150,\n",
    "        'comment': 'moving_average'\n",
    "    },\n",
    "    'Poly':{\n",
    "        'location':'EU',\n",
    "        'volumes': 7000,\n",
    "        'comment': 'monthly'\n",
    "    }\n",
    "}\n",
    "\n",
    "module_dbc.ddp_mod(customers, 100)\n",
    "module_dbc.total_mod(customers)"
   ]
  },
  {
   "cell_type": "code",
   "execution_count": 19,
   "metadata": {},
   "outputs": [
    {
     "name": "stdout",
     "output_type": "stream",
     "text": [
      "Overwriting module_dbc.py\n"
     ]
    }
   ],
   "source": [
    "%%writefile module_dbc.py\n",
    "import pandas as pd\n",
    "import numpy as np\n",
    "import os\n",
    "from datetime import date, timedelta\n",
    "import requests\n",
    "from bs4 import BeautifulSoup\n",
    "import yfinance as yf\n",
    "from script_rus_except import rus\n",
    "\n",
    "def ddp_mod(customers, days):\n",
    "    with pd.ExcelWriter('clients.xlsx', engine='xlsxwriter') as writer:\n",
    "        for client in customers:\n",
    "            if customers[client]['location'] == 'RUS':\n",
    "                df = rus(days)\n",
    "            else:\n",
    "                date_range = [(date.today() - timedelta(days)).strftime('%Y-%m-%d'), date.today().strftime('%Y-%m-%d')]\n",
    "                oil = yf.Ticker(\"BZ=F\").history(start=date_range[0], end=date_range[1])['Close'].rename('OIL')\n",
    "                usd = yf.Ticker(\"EURUSD=X\").history(start=date_range[0], end=date_range[1])['Close'].rename('EURUSD=X')\n",
    "                dbc = pd.concat([oil, usd], axis=1, join='inner').sort_index(ascending=False)\n",
    "                roll = dbc.rolling(30, min_periods=1)\n",
    "                dbc['EURUSD_mov_avrg'] = roll.mean()['EURUSD=X']\n",
    "                dbc['OIL_mov_avrg'] = roll.mean()['OIL']\n",
    "                dbc['prod_cost'] = ((dbc['OIL_mov_avrg'] * 16) / dbc['EURUSD_mov_avrg']) + 400\n",
    "                dbc['price_B'] = dbc['prod_cost'] * 1.38 * 0.95\n",
    "                df = dbc[['EURUSD=X', 'OIL', 'EURUSD_mov_avrg', 'OIL_mov_avrg', 'prod_cost', 'price_B']].copy()\n",
    "            if customers[client]['location'] == 'EU':\n",
    "                df['DDP'] = dbc['price_B'] + 30\n",
    "            elif customers[client]['location'] == 'CN':\n",
    "                df['DDP'] = dbc['price_B'] + 130 / dbc['EURUSD_mov_avrg']\n",
    "            else:\n",
    "                df['DDP'] = df['price_B(RUB)']\n",
    "            df.to_excel(writer, sheet_name=str(client))\n",
    "            \n",
    "def total_mod(customers):\n",
    "    discounts = {'up to 100': 0.01, \n",
    "                 'up to 300': 0.05, \n",
    "                 '300 plus': 0.1}\n",
    "    if os.path.exists('для_клиентов/') == False:\n",
    "        os.mkdir('для_клиентов')\n",
    "    for client in customers:\n",
    "        df = pd.read_excel('clients.xlsx', sheet_name=client)\n",
    "        if customers[client]['comment'] == 'moving_average':\n",
    "            if (customers[client]['volumes'] * 30) <= 100:\n",
    "                discount = 1 - float(discounts['up to 100'])\n",
    "            elif (customers[client]['volumes'] * 30) > 300:\n",
    "                discount = 1 - float(discounts['300 plus'])\n",
    "            else:\n",
    "                discount = 1 - float(discounts['up to 300'])\n",
    "            df['Total'] = df['DDP'] * customers[client]['volumes'] * discount\n",
    "        else:\n",
    "            if customers[client]['volumes'] <= 100:\n",
    "                discount = 1 - float(discounts['up to 100'])\n",
    "            elif customers[client]['volumes'] > 300:\n",
    "                discount = 1 - float(discounts['300 plus'])\n",
    "            else:\n",
    "                discount = 1 - float(discounts['up to 300'])\n",
    "            df['Total'] = df['DDP'] * (customers[client]['volumes'] / 30) * discount\n",
    "        df.to_excel(f'для_клиентов/{client}.xlsx', index=False)"
   ]
  }
 ],
 "metadata": {
  "kernelspec": {
   "display_name": "Python 3",
   "language": "python",
   "name": "python3"
  },
  "language_info": {
   "codemirror_mode": {
    "name": "ipython",
    "version": 3
   },
   "file_extension": ".py",
   "mimetype": "text/x-python",
   "name": "python",
   "nbconvert_exporter": "python",
   "pygments_lexer": "ipython3",
   "version": "3.8.5"
  },
  "toc": {
   "base_numbering": 1,
   "nav_menu": {},
   "number_sections": true,
   "sideBar": true,
   "skip_h1_title": false,
   "title_cell": "Table of Contents",
   "title_sidebar": "Contents",
   "toc_cell": false,
   "toc_position": {},
   "toc_section_display": true,
   "toc_window_display": false
  }
 },
 "nbformat": 4,
 "nbformat_minor": 2
}
